{
  "nbformat": 4,
  "nbformat_minor": 0,
  "metadata": {
    "colab": {
      "provenance": [],
      "authorship_tag": "ABX9TyPseXKTcz4wuCOChe+I1ukv",
      "include_colab_link": true
    },
    "kernelspec": {
      "name": "python3",
      "display_name": "Python 3"
    },
    "language_info": {
      "name": "python"
    }
  },
  "cells": [
    {
      "cell_type": "markdown",
      "metadata": {
        "id": "view-in-github",
        "colab_type": "text"
      },
      "source": [
        "<a href=\"https://colab.research.google.com/github/CorleoneAppolonia/PMP-2024/blob/main/Lab02/ex_lab.ipynb\" target=\"_parent\"><img src=\"https://colab.research.google.com/assets/colab-badge.svg\" alt=\"Open In Colab\"/></a>"
      ]
    },
    {
      "cell_type": "code",
      "execution_count": 9,
      "metadata": {
        "colab": {
          "base_uri": "https://localhost:8080/"
        },
        "id": "z1m9x63umNyp",
        "outputId": "fd1dffff-29b9-4c63-f152-436029b4b8ae"
      },
      "outputs": [
        {
          "output_type": "stream",
          "name": "stdout",
          "text": [
            "Numarul de aparitii a bilei rosii in 10000 de simulari este: 3173\n",
            "Probabilitatea de a obtine bila rosie este: 0.3173\n"
          ]
        }
      ],
      "source": [
        "\n",
        "import numpy as np\n",
        "\n",
        "def eveniment():\n",
        "    # dam cu zarul\n",
        "    zar = np.random.choice([1, 2, 3, 4, 5, 6])\n",
        "\n",
        "    bile_rosii = 3\n",
        "    bile_albastre = 4\n",
        "    bile_negre = 2\n",
        "\n",
        "    if zar == 2 or zar == 3 or zar == 5:\n",
        "        bile_negre += 1\n",
        "    elif zar == 6:\n",
        "        bile_rosii += 1\n",
        "    else:\n",
        "        bile_albastre += 1\n",
        "\n",
        "    # determin probabilitatile de aparitie a fiecarui tip de bila\n",
        "    sum = bile_rosii + bile_albastre + bile_negre\n",
        "    prob_rosie = bile_rosii / sum\n",
        "    prob_neagra = bile_negre / sum\n",
        "    prob_albastra = bile_albastre / sum\n",
        "\n",
        "    # extragem o bila in functie de probabilitatile fiecareia\n",
        "    bila = np.random.choice([\"rosie\", \"neagra\", \"albastra\"], p = [prob_rosie, prob_neagra, prob_albastra])\n",
        "    #print(\"Bila extrasa este:\", bila)\n",
        "    return bila\n",
        "\n",
        "\n",
        "counter = 0\n",
        "# generam 10000 de simulari\n",
        "for i in range(10000):\n",
        "    if eveniment() == \"rosie\":\n",
        "        counter += 1\n",
        "\n",
        "print(\"Numarul de aparitii a bilei rosii in 10000 de simulari este:\", counter)\n",
        "print(\"Probabilitatea de a obtine bila rosie este:\", counter / 10000)\n",
        "\n",
        "#Bonus:\n",
        "#Am calculat probabilitatea teoretică pentru a extrage o bilă roșie din urnă.\n",
        "#Probabilitatea teoretică obținută este de aproximativ 0.3167 (sau 31.67%). Comparând această valoare cu probabilitatea estimată din simulările realizate, care a fost în jur de 0.3168 (sau 31.68%), putem observa că cele două valori sunt foarte apropiate.\n",
        "#Această apropiere între valorile teoretice și cele obținute prin simulare ne arată că modelul folosit pentru simulare este unul adecvat, iar estimarea probabilității bazată pe un număr mare de repetiții reflectă bine probabilitatea teoretică a evenimentului.\n",
        "\n",
        ""
      ]
    }
  ]
}