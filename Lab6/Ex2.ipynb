{
  "nbformat": 4,
  "nbformat_minor": 0,
  "metadata": {
    "colab": {
      "provenance": [],
      "authorship_tag": "ABX9TyN4EnnMwM+5YdvDrQXVSx/d",
      "include_colab_link": true
    },
    "kernelspec": {
      "name": "python3",
      "display_name": "Python 3"
    },
    "language_info": {
      "name": "python"
    }
  },
  "cells": [
    {
      "cell_type": "markdown",
      "metadata": {
        "id": "view-in-github",
        "colab_type": "text"
      },
      "source": [
        "<a href=\"https://colab.research.google.com/github/CorleoneAppolonia/PMP-2024/blob/main/Lab6/Ex2.ipynb\" target=\"_parent\"><img src=\"https://colab.research.google.com/assets/colab-badge.svg\" alt=\"Open In Colab\"/></a>"
      ]
    },
    {
      "cell_type": "markdown",
      "source": [
        "Exercitiul 2)"
      ],
      "metadata": {
        "id": "qHA-p-9jgWNe"
      }
    },
    {
      "cell_type": "code",
      "source": [
        "import numpy as np\n",
        "\n",
        "rata_clienti = 20             # rata de clienti pe oră\n",
        "timp_mediu_comanda = 2        # media timpului de plasare și plata a unei comenzi în minute\n",
        "timp_maxim_asteptare = 15     # timpul maxim de așteptare pentru a servi comanda\n",
        "prag_probabilitate = 0.95     # probabilitatea dorita\n",
        "\n",
        "def simuleaza_servire(alpha, numar_simulari=10000):\n",
        "    simulari_succes = 0\n",
        "\n",
        "    for _ in range(numar_simulari):\n",
        "        numar_clienti = np.random.poisson(rata_clienti)\n",
        "        timpuri_comanda = np.random.exponential(timp_mediu_comanda, numar_clienti)\n",
        "        timpuri_gatire = np.random.exponential(alpha, numar_clienti)\n",
        "\n",
        "        timpuri_totale = timpuri_comanda + timpuri_gatire\n",
        "\n",
        "        if np.all(timpuri_totale <= timp_maxim_asteptare):\n",
        "            simulari_succes += 1\n",
        "\n",
        "    return simulari_succes / numar_simulari\n",
        "\n",
        "alpha_minim, alpha_maxim = 0.1, 5\n",
        "numar_intervale = 100\n",
        "delta = (alpha_maxim - alpha_minim) / numar_intervale\n",
        "\n",
        "alpha_optimal = 0\n",
        "for i in range(numar_intervale):\n",
        "    alpha_curent = alpha_minim + i * delta\n",
        "    if simuleaza_servire(alpha_curent) >= prag_probabilitate:\n",
        "        alpha_optimal = alpha_curent\n",
        "\n",
        "print(f\"Valoarea maximă a lui α pentru a servi clienții în sub {timp_maxim_asteptare} minute cu probabilitate de {prag_probabilitate*100}% este aproximativ: {alpha_optimal:.2f} minute.\")\n"
      ],
      "metadata": {
        "colab": {
          "base_uri": "https://localhost:8080/"
        },
        "id": "ShJgP0IzmIyI",
        "outputId": "77cf2472-6798-4264-c10d-eb9533d1bc0f"
      },
      "execution_count": 9,
      "outputs": [
        {
          "output_type": "stream",
          "name": "stdout",
          "text": [
            "Valoarea maximă a lui α pentru a servi clienții în sub 15 minute cu probabilitate de 95.0% este aproximativ: 1.62 minute.\n"
          ]
        }
      ]
    },
    {
      "cell_type": "code",
      "source": [
        "\n",
        "def timp_mediu_asteptare(alpha, numar_simulari=10000):\n",
        "    timpuri_asteptare = []\n",
        "\n",
        "    for _ in range(numar_simulari):\n",
        "        numar_clienti = np.random.poisson(rata_clienti)\n",
        "        timpuri_comanda = np.random.exponential(timp_mediu_comanda, numar_clienti)\n",
        "        timpuri_gatire = np.random.exponential(alpha, numar_clienti)\n",
        "\n",
        "        timpuri_totale = timpuri_comanda + timpuri_gatire\n",
        "        timpuri_asteptare.extend(timpuri_totale)\n",
        "\n",
        "    return np.mean(timpuri_asteptare)\n",
        "\n",
        "timp_mediu = timp_mediu_asteptare(alpha_optimal)\n",
        "print(f\"Timpul mediu de așteptare pentru a fi servit al unui client este de aproximativ: {timp_mediu:.2f} minute.\")\n"
      ],
      "metadata": {
        "colab": {
          "base_uri": "https://localhost:8080/"
        },
        "id": "wLpeZmuMmPUE",
        "outputId": "80fabf8b-29f7-4eca-843d-562528daf1a5"
      },
      "execution_count": 10,
      "outputs": [
        {
          "output_type": "stream",
          "name": "stdout",
          "text": [
            "Timpul mediu de așteptare pentru a fi servit al unui client este de aproximativ: 3.62 minute.\n"
          ]
        }
      ]
    }
  ]
}