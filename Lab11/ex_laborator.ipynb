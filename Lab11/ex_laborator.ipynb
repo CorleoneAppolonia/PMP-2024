{
  "nbformat": 4,
  "nbformat_minor": 0,
  "metadata": {
    "colab": {
      "provenance": [],
      "authorship_tag": "ABX9TyM6K/ylpmb3CMEOyO4FxdQI",
      "include_colab_link": true
    },
    "kernelspec": {
      "name": "python3",
      "display_name": "Python 3"
    },
    "language_info": {
      "name": "python"
    },
    "widgets": {
      "application/vnd.jupyter.widget-state+json": {
        "5a0d6ab9f81b4402904c13d9d91e59a5": {
          "model_module": "@jupyter-widgets/output",
          "model_name": "OutputModel",
          "model_module_version": "1.0.0",
          "state": {
            "_dom_classes": [],
            "_model_module": "@jupyter-widgets/output",
            "_model_module_version": "1.0.0",
            "_model_name": "OutputModel",
            "_view_count": null,
            "_view_module": "@jupyter-widgets/output",
            "_view_module_version": "1.0.0",
            "_view_name": "OutputView",
            "layout": "IPY_MODEL_867cace9d9e94cbb9178d21de602d0b9",
            "msg_id": "",
            "outputs": [
              {
                "output_type": "display_data",
                "data": {
                  "text/plain": "Sampling 2 chains, 0 divergences \u001b[32m━━━━━━━━━━━━━━━━━━━━━━━━━━━━━━━━━━━━━━━━\u001b[0m \u001b[35m100%\u001b[0m \u001b[36m0:00:00\u001b[0m / \u001b[33m0:00:07\u001b[0m\n",
                  "text/html": "<pre style=\"white-space:pre;overflow-x:auto;line-height:normal;font-family:Menlo,'DejaVu Sans Mono',consolas,'Courier New',monospace\">Sampling 2 chains, 0 divergences <span style=\"color: #008000; text-decoration-color: #008000\">━━━━━━━━━━━━━━━━━━━━━━━━━━━━━━━━━━━━━━━━</span> <span style=\"color: #800080; text-decoration-color: #800080\">100%</span> <span style=\"color: #008080; text-decoration-color: #008080\">0:00:00</span> / <span style=\"color: #808000; text-decoration-color: #808000\">0:00:07</span>\n</pre>\n"
                },
                "metadata": {}
              }
            ]
          }
        },
        "867cace9d9e94cbb9178d21de602d0b9": {
          "model_module": "@jupyter-widgets/base",
          "model_name": "LayoutModel",
          "model_module_version": "1.2.0",
          "state": {
            "_model_module": "@jupyter-widgets/base",
            "_model_module_version": "1.2.0",
            "_model_name": "LayoutModel",
            "_view_count": null,
            "_view_module": "@jupyter-widgets/base",
            "_view_module_version": "1.2.0",
            "_view_name": "LayoutView",
            "align_content": null,
            "align_items": null,
            "align_self": null,
            "border": null,
            "bottom": null,
            "display": null,
            "flex": null,
            "flex_flow": null,
            "grid_area": null,
            "grid_auto_columns": null,
            "grid_auto_flow": null,
            "grid_auto_rows": null,
            "grid_column": null,
            "grid_gap": null,
            "grid_row": null,
            "grid_template_areas": null,
            "grid_template_columns": null,
            "grid_template_rows": null,
            "height": null,
            "justify_content": null,
            "justify_items": null,
            "left": null,
            "margin": null,
            "max_height": null,
            "max_width": null,
            "min_height": null,
            "min_width": null,
            "object_fit": null,
            "object_position": null,
            "order": null,
            "overflow": null,
            "overflow_x": null,
            "overflow_y": null,
            "padding": null,
            "right": null,
            "top": null,
            "visibility": null,
            "width": null
          }
        }
      }
    }
  },
  "cells": [
    {
      "cell_type": "markdown",
      "metadata": {
        "id": "view-in-github",
        "colab_type": "text"
      },
      "source": [
        "<a href=\"https://colab.research.google.com/github/CorleoneAppolonia/PMP-2024/blob/main/Lab11/ex_laborator.ipynb\" target=\"_parent\"><img src=\"https://colab.research.google.com/assets/colab-badge.svg\" alt=\"Open In Colab\"/></a>"
      ]
    },
    {
      "cell_type": "code",
      "execution_count": 4,
      "metadata": {
        "colab": {
          "base_uri": "https://localhost:8080/",
          "height": 270,
          "referenced_widgets": [
            "5a0d6ab9f81b4402904c13d9d91e59a5",
            "867cace9d9e94cbb9178d21de602d0b9"
          ]
        },
        "id": "HTwQ6w8EUwO6",
        "outputId": "7669cc73-7c2d-4866-b535-0d1b1de5067f"
      },
      "outputs": [
        {
          "output_type": "display_data",
          "data": {
            "text/plain": [
              "Output()"
            ],
            "application/vnd.jupyter.widget-view+json": {
              "version_major": 2,
              "version_minor": 0,
              "model_id": "5a0d6ab9f81b4402904c13d9d91e59a5"
            }
          },
          "metadata": {}
        },
        {
          "output_type": "display_data",
          "data": {
            "text/plain": [],
            "text/html": [
              "<pre style=\"white-space:pre;overflow-x:auto;line-height:normal;font-family:Menlo,'DejaVu Sans Mono',consolas,'Courier New',monospace\"></pre>\n"
            ]
          },
          "metadata": {}
        },
        {
          "output_type": "stream",
          "name": "stdout",
          "text": [
            "         mean     sd  hdi_3%  hdi_97%  mcse_mean  mcse_sd  ess_bulk  ess_tail  \\\n",
            "beta_0 -0.000  0.007  -0.015    0.013        0.0      0.0    2416.0    1633.0   \n",
            "beta_1  0.994  0.008   0.980    1.009        0.0      0.0    2435.0    1609.0   \n",
            "beta_2  0.148  0.008   0.134    0.163        0.0      0.0    3257.0    1872.0   \n",
            "beta_3 -0.119  0.008  -0.133   -0.105        0.0      0.0    3034.0    1641.0   \n",
            "sigma   0.075  0.006   0.066    0.086        0.0      0.0    2785.0    1505.0   \n",
            "\n",
            "        r_hat  \n",
            "beta_0    1.0  \n",
            "beta_1    1.0  \n",
            "beta_2    1.0  \n",
            "beta_3    1.0  \n",
            "sigma     1.0  \n"
          ]
        }
      ],
      "source": [
        "\n",
        "import pandas as pd\n",
        "import pymc as pm\n",
        "import numpy as np\n",
        "\n",
        "file_path = 'real_estate_data.csv'\n",
        "data = pd.read_csv(file_path)\n",
        "\n",
        "# a) Realizarea modelului\n",
        "\n",
        "x1 = data['Surface_area'].values\n",
        "x2 = data['Rooms'].values\n",
        "x3 = data['Distance_to_center'].values\n",
        "y = data['Price'].values\n",
        "\n",
        "x1_norm = (x1 - np.mean(x1)) / np.std(x1)\n",
        "x2_norm = (x2 - np.mean(x2)) / np.std(x2)\n",
        "x3_norm = (x3 - np.mean(x3)) / np.std(x3)\n",
        "y_norm = (y - np.mean(y)) / np.std(y)\n",
        "\n",
        "\n",
        "with pm.Model() as model:\n",
        "    beta_0 = pm.Normal(\"beta_0\", mu=0, sigma=10)\n",
        "    beta_1 = pm.Normal(\"beta_1\", mu=0, sigma=10)\n",
        "    beta_2 = pm.Normal(\"beta_2\", mu=0, sigma=10)\n",
        "    beta_3 = pm.Normal(\"beta_3\", mu=0, sigma=10)\n",
        "    sigma = pm.HalfNormal(\"sigma\", sigma=1)\n",
        "\n",
        "    mu = beta_0 + beta_1 * x1_norm + beta_2 * x2_norm + beta_3 * x3_norm\n",
        "\n",
        "    y_obs = pm.Normal(\"y_obs\", mu=mu, sigma=sigma, observed=y_norm)\n",
        "\n",
        "    trace = pm.sample(1000, return_inferencedata=True, cores=2)\n",
        "\n",
        "# b) Analizarea rezultatelor\n",
        "summary = pm.summary(trace)\n",
        "print(summary)\n",
        "\n",
        "# Coeficientii beta_1, beta_2 si beta_3 indica influenta fiecarei variabile asupra pretului:\n",
        "# - |beta_1| = 0.994: Efectul lui Surface_area asupra pretului.\n",
        "# - |beta_2| = 0.148: Efectul lui Rooms asupra pretului.\n",
        "# - |beta_3| = 0.119: Efectul lui Distance_to_center asupra pretului.\n",
        "\n",
        "# beta_1 are cea mai mare valoare in modul si este cel mai semnificativ factor\n",
        "# care afecteaza pretul unui apartament. Acest lucru sugereaza faptul ca\n",
        "# apartamentele mai mari au in general preturi mai mari."
      ]
    }
  ]
}