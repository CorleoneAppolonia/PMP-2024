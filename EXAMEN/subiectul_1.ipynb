{
  "nbformat": 4,
  "nbformat_minor": 0,
  "metadata": {
    "colab": {
      "provenance": [],
      "authorship_tag": "ABX9TyMlachoeyMG50vAnSxKoo/V",
      "include_colab_link": true
    },
    "kernelspec": {
      "name": "python3",
      "display_name": "Python 3"
    },
    "language_info": {
      "name": "python"
    },
    "widgets": {
      "application/vnd.jupyter.widget-state+json": {
        "aea6ee23b7744cd1b1dff576b1b4976c": {
          "model_module": "@jupyter-widgets/output",
          "model_name": "OutputModel",
          "model_module_version": "1.0.0",
          "state": {
            "_dom_classes": [],
            "_model_module": "@jupyter-widgets/output",
            "_model_module_version": "1.0.0",
            "_model_name": "OutputModel",
            "_view_count": null,
            "_view_module": "@jupyter-widgets/output",
            "_view_module_version": "1.0.0",
            "_view_name": "OutputView",
            "layout": "IPY_MODEL_498d9029fe054117b1850a7a424002d8",
            "msg_id": "",
            "outputs": [
              {
                "output_type": "display_data",
                "data": {
                  "text/plain": "Sampling chain 0, 0 divergences \u001b[32m━━━━━━━━━━━━━━━━━━━━━━━━━━━━━━━━━━━━━━━━\u001b[0m \u001b[35m100%\u001b[0m \u001b[36m0:00:00\u001b[0m / \u001b[33m0:00:25\u001b[0m\n",
                  "text/html": "<pre style=\"white-space:pre;overflow-x:auto;line-height:normal;font-family:Menlo,'DejaVu Sans Mono',consolas,'Courier New',monospace\">Sampling chain 0, 0 divergences <span style=\"color: #008000; text-decoration-color: #008000\">━━━━━━━━━━━━━━━━━━━━━━━━━━━━━━━━━━━━━━━━</span> <span style=\"color: #800080; text-decoration-color: #800080\">100%</span> <span style=\"color: #008080; text-decoration-color: #008080\">0:00:00</span> / <span style=\"color: #808000; text-decoration-color: #808000\">0:00:25</span>\n</pre>\n"
                },
                "metadata": {}
              }
            ]
          }
        },
        "498d9029fe054117b1850a7a424002d8": {
          "model_module": "@jupyter-widgets/base",
          "model_name": "LayoutModel",
          "model_module_version": "1.2.0",
          "state": {
            "_model_module": "@jupyter-widgets/base",
            "_model_module_version": "1.2.0",
            "_model_name": "LayoutModel",
            "_view_count": null,
            "_view_module": "@jupyter-widgets/base",
            "_view_module_version": "1.2.0",
            "_view_name": "LayoutView",
            "align_content": null,
            "align_items": null,
            "align_self": null,
            "border": null,
            "bottom": null,
            "display": null,
            "flex": null,
            "flex_flow": null,
            "grid_area": null,
            "grid_auto_columns": null,
            "grid_auto_flow": null,
            "grid_auto_rows": null,
            "grid_column": null,
            "grid_gap": null,
            "grid_row": null,
            "grid_template_areas": null,
            "grid_template_columns": null,
            "grid_template_rows": null,
            "height": null,
            "justify_content": null,
            "justify_items": null,
            "left": null,
            "margin": null,
            "max_height": null,
            "max_width": null,
            "min_height": null,
            "min_width": null,
            "object_fit": null,
            "object_position": null,
            "order": null,
            "overflow": null,
            "overflow_x": null,
            "overflow_y": null,
            "padding": null,
            "right": null,
            "top": null,
            "visibility": null,
            "width": null
          }
        },
        "6c6e74e4efd2466b9a11717040d07dd5": {
          "model_module": "@jupyter-widgets/output",
          "model_name": "OutputModel",
          "model_module_version": "1.0.0",
          "state": {
            "_dom_classes": [],
            "_model_module": "@jupyter-widgets/output",
            "_model_module_version": "1.0.0",
            "_model_name": "OutputModel",
            "_view_count": null,
            "_view_module": "@jupyter-widgets/output",
            "_view_module_version": "1.0.0",
            "_view_name": "OutputView",
            "layout": "IPY_MODEL_cd0146d5932f4eb28d74d05276d8feb5",
            "msg_id": "",
            "outputs": [
              {
                "output_type": "display_data",
                "data": {
                  "text/plain": "Sampling chain 1, 0 divergences \u001b[32m━━━━━━━━━━━━━━━━━━━━━━━━━━━━━━━━━━━━━━━━\u001b[0m \u001b[35m100%\u001b[0m \u001b[36m0:00:00\u001b[0m / \u001b[33m0:00:17\u001b[0m\n",
                  "text/html": "<pre style=\"white-space:pre;overflow-x:auto;line-height:normal;font-family:Menlo,'DejaVu Sans Mono',consolas,'Courier New',monospace\">Sampling chain 1, 0 divergences <span style=\"color: #008000; text-decoration-color: #008000\">━━━━━━━━━━━━━━━━━━━━━━━━━━━━━━━━━━━━━━━━</span> <span style=\"color: #800080; text-decoration-color: #800080\">100%</span> <span style=\"color: #008080; text-decoration-color: #008080\">0:00:00</span> / <span style=\"color: #808000; text-decoration-color: #808000\">0:00:17</span>\n</pre>\n"
                },
                "metadata": {}
              }
            ]
          }
        },
        "cd0146d5932f4eb28d74d05276d8feb5": {
          "model_module": "@jupyter-widgets/base",
          "model_name": "LayoutModel",
          "model_module_version": "1.2.0",
          "state": {
            "_model_module": "@jupyter-widgets/base",
            "_model_module_version": "1.2.0",
            "_model_name": "LayoutModel",
            "_view_count": null,
            "_view_module": "@jupyter-widgets/base",
            "_view_module_version": "1.2.0",
            "_view_name": "LayoutView",
            "align_content": null,
            "align_items": null,
            "align_self": null,
            "border": null,
            "bottom": null,
            "display": null,
            "flex": null,
            "flex_flow": null,
            "grid_area": null,
            "grid_auto_columns": null,
            "grid_auto_flow": null,
            "grid_auto_rows": null,
            "grid_column": null,
            "grid_gap": null,
            "grid_row": null,
            "grid_template_areas": null,
            "grid_template_columns": null,
            "grid_template_rows": null,
            "height": null,
            "justify_content": null,
            "justify_items": null,
            "left": null,
            "margin": null,
            "max_height": null,
            "max_width": null,
            "min_height": null,
            "min_width": null,
            "object_fit": null,
            "object_position": null,
            "order": null,
            "overflow": null,
            "overflow_x": null,
            "overflow_y": null,
            "padding": null,
            "right": null,
            "top": null,
            "visibility": null,
            "width": null
          }
        },
        "2109a37c01394d84b4f03d5bfc0797a1": {
          "model_module": "@jupyter-widgets/output",
          "model_name": "OutputModel",
          "model_module_version": "1.0.0",
          "state": {
            "_dom_classes": [],
            "_model_module": "@jupyter-widgets/output",
            "_model_module_version": "1.0.0",
            "_model_name": "OutputModel",
            "_view_count": null,
            "_view_module": "@jupyter-widgets/output",
            "_view_module_version": "1.0.0",
            "_view_name": "OutputView",
            "layout": "IPY_MODEL_7f1f5c10d7644f79b30eb51924eaad62",
            "msg_id": "",
            "outputs": [
              {
                "output_type": "display_data",
                "data": {
                  "text/plain": "Sampling chain 0, 0 divergences \u001b[38;2;23;100;244m━━━━━━━━━━━━━━━━━━━━━━━━━━━━━━━━━━━━━━━\u001b[0m\u001b[38;2;23;100;244m╸\u001b[0m \u001b[35m 99%\u001b[0m \u001b[36m0:00:01\u001b[0m / \u001b[33m0:00:10\u001b[0m\n",
                  "text/html": "<pre style=\"white-space:pre;overflow-x:auto;line-height:normal;font-family:Menlo,'DejaVu Sans Mono',consolas,'Courier New',monospace\">Sampling chain 0, 0 divergences <span style=\"color: #1764f4; text-decoration-color: #1764f4\">━━━━━━━━━━━━━━━━━━━━━━━━━━━━━━━━━━━━━━━╸</span> <span style=\"color: #800080; text-decoration-color: #800080\"> 99%</span> <span style=\"color: #008080; text-decoration-color: #008080\">0:00:01</span> / <span style=\"color: #808000; text-decoration-color: #808000\">0:00:10</span>\n</pre>\n"
                },
                "metadata": {}
              }
            ]
          }
        },
        "7f1f5c10d7644f79b30eb51924eaad62": {
          "model_module": "@jupyter-widgets/base",
          "model_name": "LayoutModel",
          "model_module_version": "1.2.0",
          "state": {
            "_model_module": "@jupyter-widgets/base",
            "_model_module_version": "1.2.0",
            "_model_name": "LayoutModel",
            "_view_count": null,
            "_view_module": "@jupyter-widgets/base",
            "_view_module_version": "1.2.0",
            "_view_name": "LayoutView",
            "align_content": null,
            "align_items": null,
            "align_self": null,
            "border": null,
            "bottom": null,
            "display": null,
            "flex": null,
            "flex_flow": null,
            "grid_area": null,
            "grid_auto_columns": null,
            "grid_auto_flow": null,
            "grid_auto_rows": null,
            "grid_column": null,
            "grid_gap": null,
            "grid_row": null,
            "grid_template_areas": null,
            "grid_template_columns": null,
            "grid_template_rows": null,
            "height": null,
            "justify_content": null,
            "justify_items": null,
            "left": null,
            "margin": null,
            "max_height": null,
            "max_width": null,
            "min_height": null,
            "min_width": null,
            "object_fit": null,
            "object_position": null,
            "order": null,
            "overflow": null,
            "overflow_x": null,
            "overflow_y": null,
            "padding": null,
            "right": null,
            "top": null,
            "visibility": null,
            "width": null
          }
        },
        "b318ac0d0b3c4a0e919e093f8cccef93": {
          "model_module": "@jupyter-widgets/output",
          "model_name": "OutputModel",
          "model_module_version": "1.0.0",
          "state": {
            "_dom_classes": [],
            "_model_module": "@jupyter-widgets/output",
            "_model_module_version": "1.0.0",
            "_model_name": "OutputModel",
            "_view_count": null,
            "_view_module": "@jupyter-widgets/output",
            "_view_module_version": "1.0.0",
            "_view_name": "OutputView",
            "layout": "IPY_MODEL_98bde59e9db74f1aa18960ab79556c04",
            "msg_id": "",
            "outputs": [
              {
                "output_type": "display_data",
                "data": {
                  "text/plain": "Sampling chain 1, 0 divergences \u001b[32m━━━━━━━━━━━━━━━━━━━━━━━━━━━━━━━━━━━━━━━━\u001b[0m \u001b[35m100%\u001b[0m \u001b[36m0:00:00\u001b[0m / \u001b[33m0:00:10\u001b[0m\n",
                  "text/html": "<pre style=\"white-space:pre;overflow-x:auto;line-height:normal;font-family:Menlo,'DejaVu Sans Mono',consolas,'Courier New',monospace\">Sampling chain 1, 0 divergences <span style=\"color: #008000; text-decoration-color: #008000\">━━━━━━━━━━━━━━━━━━━━━━━━━━━━━━━━━━━━━━━━</span> <span style=\"color: #800080; text-decoration-color: #800080\">100%</span> <span style=\"color: #008080; text-decoration-color: #008080\">0:00:00</span> / <span style=\"color: #808000; text-decoration-color: #808000\">0:00:10</span>\n</pre>\n"
                },
                "metadata": {}
              }
            ]
          }
        },
        "98bde59e9db74f1aa18960ab79556c04": {
          "model_module": "@jupyter-widgets/base",
          "model_name": "LayoutModel",
          "model_module_version": "1.2.0",
          "state": {
            "_model_module": "@jupyter-widgets/base",
            "_model_module_version": "1.2.0",
            "_model_name": "LayoutModel",
            "_view_count": null,
            "_view_module": "@jupyter-widgets/base",
            "_view_module_version": "1.2.0",
            "_view_name": "LayoutView",
            "align_content": null,
            "align_items": null,
            "align_self": null,
            "border": null,
            "bottom": null,
            "display": null,
            "flex": null,
            "flex_flow": null,
            "grid_area": null,
            "grid_auto_columns": null,
            "grid_auto_flow": null,
            "grid_auto_rows": null,
            "grid_column": null,
            "grid_gap": null,
            "grid_row": null,
            "grid_template_areas": null,
            "grid_template_columns": null,
            "grid_template_rows": null,
            "height": null,
            "justify_content": null,
            "justify_items": null,
            "left": null,
            "margin": null,
            "max_height": null,
            "max_width": null,
            "min_height": null,
            "min_width": null,
            "object_fit": null,
            "object_position": null,
            "order": null,
            "overflow": null,
            "overflow_x": null,
            "overflow_y": null,
            "padding": null,
            "right": null,
            "top": null,
            "visibility": null,
            "width": null
          }
        }
      }
    }
  },
  "cells": [
    {
      "cell_type": "markdown",
      "metadata": {
        "id": "view-in-github",
        "colab_type": "text"
      },
      "source": [
        "<a href=\"https://colab.research.google.com/github/CorleoneAppolonia/PMP-2024/blob/main/EXAMEN/subiectul_1.ipynb\" target=\"_parent\"><img src=\"https://colab.research.google.com/assets/colab-badge.svg\" alt=\"Open In Colab\"/></a>"
      ]
    },
    {
      "cell_type": "code",
      "execution_count": 1,
      "metadata": {
        "colab": {
          "base_uri": "https://localhost:8080/",
          "height": 173,
          "referenced_widgets": [
            "aea6ee23b7744cd1b1dff576b1b4976c",
            "498d9029fe054117b1850a7a424002d8",
            "6c6e74e4efd2466b9a11717040d07dd5",
            "cd0146d5932f4eb28d74d05276d8feb5",
            "2109a37c01394d84b4f03d5bfc0797a1",
            "7f1f5c10d7644f79b30eb51924eaad62",
            "b318ac0d0b3c4a0e919e093f8cccef93",
            "98bde59e9db74f1aa18960ab79556c04"
          ]
        },
        "id": "dJ4ycYEW-2J0",
        "outputId": "dd675bbf-a24f-42d6-8777-fd5a1c556992"
      },
      "outputs": [
        {
          "output_type": "display_data",
          "data": {
            "text/plain": [
              "Sampling chain 1, 0 divergences \u001b[38;2;23;100;244m━━━━━━━━━━━━━━━━━━━━━━━━━━━━━━\u001b[0m\u001b[38;2;23;100;244m╸\u001b[0m\u001b[38;5;237m━━━━━━━━━\u001b[0m \u001b[35m 76%\u001b[0m \u001b[36m0:00:03\u001b[0m / \u001b[33m0:00:08\u001b[0m\n"
            ],
            "text/html": [
              "<pre style=\"white-space:pre;overflow-x:auto;line-height:normal;font-family:Menlo,'DejaVu Sans Mono',consolas,'Courier New',monospace\">Sampling chain 1, 0 divergences <span style=\"color: #1764f4; text-decoration-color: #1764f4\">━━━━━━━━━━━━━━━━━━━━━━━━━━━━━━╸</span><span style=\"color: #3a3a3a; text-decoration-color: #3a3a3a\">━━━━━━━━━</span> <span style=\"color: #800080; text-decoration-color: #800080\"> 76%</span> <span style=\"color: #008080; text-decoration-color: #008080\">0:00:03</span> / <span style=\"color: #808000; text-decoration-color: #808000\">0:00:08</span>\n",
              "</pre>\n"
            ]
          },
          "metadata": {}
        },
        {
          "output_type": "display_data",
          "data": {
            "text/plain": [
              "Sampling chain 1, 0 divergences \u001b[38;2;23;100;244m━━━━━━━━━━━━━━━━━━━━━━━━━━━━━━━━\u001b[0m\u001b[38;5;237m╺\u001b[0m\u001b[38;5;237m━━━━━━━\u001b[0m \u001b[35m 81%\u001b[0m \u001b[36m0:00:03\u001b[0m / \u001b[33m0:00:09\u001b[0m\n"
            ],
            "text/html": [
              "<pre style=\"white-space:pre;overflow-x:auto;line-height:normal;font-family:Menlo,'DejaVu Sans Mono',consolas,'Courier New',monospace\">Sampling chain 1, 0 divergences <span style=\"color: #1764f4; text-decoration-color: #1764f4\">━━━━━━━━━━━━━━━━━━━━━━━━━━━━━━━━</span><span style=\"color: #3a3a3a; text-decoration-color: #3a3a3a\">╺━━━━━━━</span> <span style=\"color: #800080; text-decoration-color: #800080\"> 81%</span> <span style=\"color: #008080; text-decoration-color: #008080\">0:00:03</span> / <span style=\"color: #808000; text-decoration-color: #808000\">0:00:09</span>\n",
              "</pre>\n"
            ]
          },
          "metadata": {}
        },
        {
          "output_type": "display_data",
          "data": {
            "text/plain": [],
            "text/html": [
              "<pre style=\"white-space:pre;overflow-x:auto;line-height:normal;font-family:Menlo,'DejaVu Sans Mono',consolas,'Courier New',monospace\"></pre>\n"
            ]
          },
          "metadata": {}
        },
        {
          "output_type": "stream",
          "name": "stdout",
          "text": [
            "               rank   elpd_waic    p_waic  elpd_diff  weight         se  \\\n",
            "model_complet     0 -211.640506  4.755660   0.000000     1.0  12.686580   \n",
            "model_simplu      1 -248.858849  2.823957  37.218343     0.0  12.491419   \n",
            "\n",
            "                    dse  warning scale  \n",
            "model_complet  0.000000    False   log  \n",
            "model_simplu   8.442806    False   log  \n"
          ]
        }
      ],
      "source": [
        "import pymc as pm\n",
        "import arviz as az\n",
        "import pandas as pd\n",
        "import numpy as np\n",
        "\n",
        "df = pd.read_csv(\"date_alegeri_turul2.csv\")\n",
        "\n",
        "X = df[['Varsta', 'Sex', 'Educatie', 'Venit']]\n",
        "y = df['Vot']\n",
        "\n",
        "# -----------------------------------------------------------------\n",
        "# 1) Modelul COMPLET (cu toate variabilele)\n",
        "#    Definire si sampling in InferenceData (cu log likelihood)\n",
        "# -----------------------------------------------------------------\n",
        "with pm.Model() as model_complet:\n",
        "    alpha = pm.Normal(\"alpha\", mu=0, sigma=10)\n",
        "\n",
        "    beta_varsta = pm.Normal(\"beta_varsta\", mu=0, sigma=1)\n",
        "    beta_sex    = pm.Normal(\"beta_sex\",    mu=0, sigma=1)\n",
        "    beta_educ   = pm.Normal(\"beta_educ\",   mu=0, sigma=1)\n",
        "    beta_venit  = pm.Normal(\"beta_venit\",  mu=0, sigma=1)\n",
        "\n",
        "    logits = (\n",
        "        alpha\n",
        "        + beta_varsta * X['Varsta']\n",
        "        + beta_sex    * X['Sex']\n",
        "        + beta_educ   * X['Educatie']\n",
        "        + beta_venit  * X['Venit']\n",
        "    )\n",
        "\n",
        "    p = pm.math.sigmoid(logits)\n",
        "\n",
        "    like = pm.Bernoulli(\"like\", p, observed=y)\n",
        "\n",
        "    # Facem sample si stocam intr-un InferenceData\n",
        "    idata_complet = pm.sample(\n",
        "        2000, tune=1000,\n",
        "        return_inferencedata=True,            # <--- CHEIE\n",
        "        idata_kwargs={\"log_likelihood\": True},# <--- CHEIE\n",
        "        random_seed=42\n",
        "    )\n",
        "\n",
        "# -----------------------------------------------------------------\n",
        "# 2) Modelul SIMPLU (doar Varsta si Sex, de ex.)\n",
        "# -----------------------------------------------------------------\n",
        "with pm.Model() as model_simplu:\n",
        "    alpha2       = pm.Normal(\"alpha2\", mu=0, sigma=10)\n",
        "    beta_varsta2 = pm.Normal(\"beta_varsta2\", mu=0, sigma=2)\n",
        "    beta_sex2    = pm.Normal(\"beta_sex2\",    mu=0, sigma=2)\n",
        "\n",
        "    logits2 = alpha2 + beta_varsta2 * X['Varsta'] + beta_sex2 * X['Sex']\n",
        "    p2 = pm.math.sigmoid(logits2)\n",
        "\n",
        "    like2 = pm.Bernoulli(\"like2\", p2, observed=y)\n",
        "\n",
        "    idata_simplu = pm.sample(\n",
        "        2000, tune=1000,\n",
        "        return_inferencedata=True,\n",
        "        idata_kwargs={\"log_likelihood\": True},\n",
        "        random_seed=42\n",
        "    )\n",
        "\n",
        "# -----------------------------------------------------------------\n",
        "# 3) Compararea cu WAIC (sau LOO)\n",
        "# -----------------------------------------------------------------\n",
        "cmp = az.compare(\n",
        "    {\n",
        "        \"model_complet\": idata_complet,\n",
        "        \"model_simplu\":  idata_simplu\n",
        "    },\n",
        "    ic=\"waic\",         # criteriul de informație: WAIC\n",
        "    method=\"stacking\"  # modul de combinare a modelelor (greutățile)\n",
        ")\n",
        "print(cmp)\n",
        "\n"
      ]
    },
    {
      "cell_type": "code",
      "source": [
        "post_simplu = idata_simplu.posterior.stack(samples=(\"chain\",\"draw\"))\n",
        "\n",
        "alpha2_samples = post_simplu[\"alpha2\"].values  # shape (n_samples,)\n",
        "beta_varsta2_samples = post_simplu[\"beta_varsta2\"].values\n",
        "beta_sex2_samples    = post_simplu[\"beta_sex2\"].values\n",
        "\n",
        "# Definim un range de varsta (ex: 18..80), si Sex=0 sau 1\n",
        "varsta_range = np.linspace(18, 80, 200)\n",
        "\n",
        "# Pentru fiecare punct, calculam probabilitatea p = sigmoid(alpha2 + bV*varsta + bS*sex).\n",
        "# Daca Sex=0, de ex.:\n",
        "p_mean_femeie = []\n",
        "for v in varsta_range:\n",
        "    # Calculam p la fiecare esantion\n",
        "    logits_s = alpha2_samples + beta_varsta2_samples*v + beta_sex2_samples*0\n",
        "    p_s      = 1/(1 + np.exp(-logits_s))  # sigmoid\n",
        "    p_mean_femeie.append(p_s.mean())  # media posteriorului\n",
        "\n",
        "# Similar pentru Sex=1 (barbat).\n",
        "p_mean_barbat = []\n",
        "for v in varsta_range:\n",
        "    logits_s = alpha2_samples + beta_varsta2_samples*v + beta_sex2_samples*1\n",
        "    p_s      = 1/(1 + np.exp(-logits_s))\n",
        "    p_mean_barbat.append(p_s.mean())\n"
      ],
      "metadata": {
        "id": "Bc-WsY_O_U5s"
      },
      "execution_count": 2,
      "outputs": []
    },
    {
      "cell_type": "code",
      "source": [
        "import matplotlib.pyplot as plt\n",
        "plt.plot(varsta_range, p_mean_femeie, label=\"Prob(A|Varsta,Sex=Femeie)\")\n",
        "plt.plot(varsta_range, p_mean_barbat, label=\"Prob(A|Varsta,Sex=Barbat)\")\n",
        "plt.axhline(0.5, color=\"k\", linestyle=\"--\", label=\"p=0.5\")\n",
        "plt.legend()\n",
        "plt.xlabel(\"Varsta\")\n",
        "plt.ylabel(\"Probabilitate vot A\")\n",
        "plt.show()\n"
      ],
      "metadata": {
        "colab": {
          "base_uri": "https://localhost:8080/",
          "height": 449
        },
        "id": "_i10N6RB_YvK",
        "outputId": "edc15914-b93a-4cc1-c686-48b15c16c6b3"
      },
      "execution_count": 3,
      "outputs": [
        {
          "output_type": "display_data",
          "data": {
            "text/plain": [
              "<Figure size 640x480 with 1 Axes>"
            ],
            "image/png": "[encoded data removed]"
          },
          "metadata": {}
        }
      ]
    }
  ]
}