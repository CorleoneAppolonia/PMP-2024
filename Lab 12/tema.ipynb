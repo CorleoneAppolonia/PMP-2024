{
  "nbformat": 4,
  "nbformat_minor": 0,
  "metadata": {
    "colab": {
      "provenance": [],
      "include_colab_link": true
    },
    "kernelspec": {
      "name": "python3",
      "display_name": "Python 3"
    },
    "language_info": {
      "name": "python"
    },
    "widgets": {
      "application/vnd.jupyter.widget-state+json": {
        "8c0e33adf6744d648c7a2b3f476f2214": {
          "model_module": "@jupyter-widgets/output",
          "model_name": "OutputModel",
          "model_module_version": "1.0.0",
          "state": {
            "_dom_classes": [],
            "_model_module": "@jupyter-widgets/output",
            "_model_module_version": "1.0.0",
            "_model_name": "OutputModel",
            "_view_count": null,
            "_view_module": "@jupyter-widgets/output",
            "_view_module_version": "1.0.0",
            "_view_name": "OutputView",
            "layout": "IPY_MODEL_ee2c6842d4d2423785b5c0b7865e1adb",
            "msg_id": "",
            "outputs": [
              {
                "output_type": "display_data",
                "data": {
                  "text/plain": "Sampling chain 0, 133 divergences \u001b[32m━━━━━━━━━━━━━━━━━━━━━━━━━━━━━━━━━━━━━━━━\u001b[0m \u001b[35m100%\u001b[0m \u001b[36m0:00:00\u001b[0m / \u001b[33m0:00:06\u001b[0m\n",
                  "text/html": "<pre style=\"white-space:pre;overflow-x:auto;line-height:normal;font-family:Menlo,'DejaVu Sans Mono',consolas,'Courier New',monospace\">Sampling chain 0, 133 divergences <span style=\"color: #008000; text-decoration-color: #008000\">━━━━━━━━━━━━━━━━━━━━━━━━━━━━━━━━━━━━━━━━</span> <span style=\"color: #800080; text-decoration-color: #800080\">100%</span> <span style=\"color: #008080; text-decoration-color: #008080\">0:00:00</span> / <span style=\"color: #808000; text-decoration-color: #808000\">0:00:06</span>\n</pre>\n"
                },
                "metadata": {}
              }
            ]
          }
        },
        "ee2c6842d4d2423785b5c0b7865e1adb": {
          "model_module": "@jupyter-widgets/base",
          "model_name": "LayoutModel",
          "model_module_version": "1.2.0",
          "state": {
            "_model_module": "@jupyter-widgets/base",
            "_model_module_version": "1.2.0",
            "_model_name": "LayoutModel",
            "_view_count": null,
            "_view_module": "@jupyter-widgets/base",
            "_view_module_version": "1.2.0",
            "_view_name": "LayoutView",
            "align_content": null,
            "align_items": null,
            "align_self": null,
            "border": null,
            "bottom": null,
            "display": null,
            "flex": null,
            "flex_flow": null,
            "grid_area": null,
            "grid_auto_columns": null,
            "grid_auto_flow": null,
            "grid_auto_rows": null,
            "grid_column": null,
            "grid_gap": null,
            "grid_row": null,
            "grid_template_areas": null,
            "grid_template_columns": null,
            "grid_template_rows": null,
            "height": null,
            "justify_content": null,
            "justify_items": null,
            "left": null,
            "margin": null,
            "max_height": null,
            "max_width": null,
            "min_height": null,
            "min_width": null,
            "object_fit": null,
            "object_position": null,
            "order": null,
            "overflow": null,
            "overflow_x": null,
            "overflow_y": null,
            "padding": null,
            "right": null,
            "top": null,
            "visibility": null,
            "width": null
          }
        },
        "a17fa52ccf05404c9bf1d3b7800b6865": {
          "model_module": "@jupyter-widgets/output",
          "model_name": "OutputModel",
          "model_module_version": "1.0.0",
          "state": {
            "_dom_classes": [],
            "_model_module": "@jupyter-widgets/output",
            "_model_module_version": "1.0.0",
            "_model_name": "OutputModel",
            "_view_count": null,
            "_view_module": "@jupyter-widgets/output",
            "_view_module_version": "1.0.0",
            "_view_name": "OutputView",
            "layout": "IPY_MODEL_232dad46b9c9423ca68540174ad207e4",
            "msg_id": "",
            "outputs": [
              {
                "output_type": "display_data",
                "data": {
                  "text/plain": "Sampling chain 1, 190 divergences \u001b[32m━━━━━━━━━━━━━━━━━━━━━━━━━━━━━━━━━━━━━━━━\u001b[0m \u001b[35m100%\u001b[0m \u001b[36m0:00:00\u001b[0m / \u001b[33m0:00:07\u001b[0m\n",
                  "text/html": "<pre style=\"white-space:pre;overflow-x:auto;line-height:normal;font-family:Menlo,'DejaVu Sans Mono',consolas,'Courier New',monospace\">Sampling chain 1, 190 divergences <span style=\"color: #008000; text-decoration-color: #008000\">━━━━━━━━━━━━━━━━━━━━━━━━━━━━━━━━━━━━━━━━</span> <span style=\"color: #800080; text-decoration-color: #800080\">100%</span> <span style=\"color: #008080; text-decoration-color: #008080\">0:00:00</span> / <span style=\"color: #808000; text-decoration-color: #808000\">0:00:07</span>\n</pre>\n"
                },
                "metadata": {}
              }
            ]
          }
        },
        "232dad46b9c9423ca68540174ad207e4": {
          "model_module": "@jupyter-widgets/base",
          "model_name": "LayoutModel",
          "model_module_version": "1.2.0",
          "state": {
            "_model_module": "@jupyter-widgets/base",
            "_model_module_version": "1.2.0",
            "_model_name": "LayoutModel",
            "_view_count": null,
            "_view_module": "@jupyter-widgets/base",
            "_view_module_version": "1.2.0",
            "_view_name": "LayoutView",
            "align_content": null,
            "align_items": null,
            "align_self": null,
            "border": null,
            "bottom": null,
            "display": null,
            "flex": null,
            "flex_flow": null,
            "grid_area": null,
            "grid_auto_columns": null,
            "grid_auto_flow": null,
            "grid_auto_rows": null,
            "grid_column": null,
            "grid_gap": null,
            "grid_row": null,
            "grid_template_areas": null,
            "grid_template_columns": null,
            "grid_template_rows": null,
            "height": null,
            "justify_content": null,
            "justify_items": null,
            "left": null,
            "margin": null,
            "max_height": null,
            "max_width": null,
            "min_height": null,
            "min_width": null,
            "object_fit": null,
            "object_position": null,
            "order": null,
            "overflow": null,
            "overflow_x": null,
            "overflow_y": null,
            "padding": null,
            "right": null,
            "top": null,
            "visibility": null,
            "width": null
          }
        },
        "38a640c8018f4796bd4314443d3b8655": {
          "model_module": "@jupyter-widgets/output",
          "model_name": "OutputModel",
          "model_module_version": "1.0.0",
          "state": {
            "_dom_classes": [],
            "_model_module": "@jupyter-widgets/output",
            "_model_module_version": "1.0.0",
            "_model_name": "OutputModel",
            "_view_count": null,
            "_view_module": "@jupyter-widgets/output",
            "_view_module_version": "1.0.0",
            "_view_name": "OutputView",
            "layout": "IPY_MODEL_2c8119f553294c748adb3ee5ef857383",
            "msg_id": "",
            "outputs": [
              {
                "output_type": "display_data",
                "data": {
                  "text/plain": "Sampling chain 0, 0 divergences \u001b[32m━━━━━━━━━━━━━━━━━━━━━━━━━━━━━━━━━━━━━━━━\u001b[0m \u001b[35m100%\u001b[0m \u001b[36m0:00:00\u001b[0m / \u001b[33m0:00:09\u001b[0m\n",
                  "text/html": "<pre style=\"white-space:pre;overflow-x:auto;line-height:normal;font-family:Menlo,'DejaVu Sans Mono',consolas,'Courier New',monospace\">Sampling chain 0, 0 divergences <span style=\"color: #008000; text-decoration-color: #008000\">━━━━━━━━━━━━━━━━━━━━━━━━━━━━━━━━━━━━━━━━</span> <span style=\"color: #800080; text-decoration-color: #800080\">100%</span> <span style=\"color: #008080; text-decoration-color: #008080\">0:00:00</span> / <span style=\"color: #808000; text-decoration-color: #808000\">0:00:09</span>\n</pre>\n"
                },
                "metadata": {}
              }
            ]
          }
        },
        "2c8119f553294c748adb3ee5ef857383": {
          "model_module": "@jupyter-widgets/base",
          "model_name": "LayoutModel",
          "model_module_version": "1.2.0",
          "state": {
            "_model_module": "@jupyter-widgets/base",
            "_model_module_version": "1.2.0",
            "_model_name": "LayoutModel",
            "_view_count": null,
            "_view_module": "@jupyter-widgets/base",
            "_view_module_version": "1.2.0",
            "_view_name": "LayoutView",
            "align_content": null,
            "align_items": null,
            "align_self": null,
            "border": null,
            "bottom": null,
            "display": null,
            "flex": null,
            "flex_flow": null,
            "grid_area": null,
            "grid_auto_columns": null,
            "grid_auto_flow": null,
            "grid_auto_rows": null,
            "grid_column": null,
            "grid_gap": null,
            "grid_row": null,
            "grid_template_areas": null,
            "grid_template_columns": null,
            "grid_template_rows": null,
            "height": null,
            "justify_content": null,
            "justify_items": null,
            "left": null,
            "margin": null,
            "max_height": null,
            "max_width": null,
            "min_height": null,
            "min_width": null,
            "object_fit": null,
            "object_position": null,
            "order": null,
            "overflow": null,
            "overflow_x": null,
            "overflow_y": null,
            "padding": null,
            "right": null,
            "top": null,
            "visibility": null,
            "width": null
          }
        },
        "e76f6a7bbd9e41bcabaa7526d70c4d6d": {
          "model_module": "@jupyter-widgets/output",
          "model_name": "OutputModel",
          "model_module_version": "1.0.0",
          "state": {
            "_dom_classes": [],
            "_model_module": "@jupyter-widgets/output",
            "_model_module_version": "1.0.0",
            "_model_name": "OutputModel",
            "_view_count": null,
            "_view_module": "@jupyter-widgets/output",
            "_view_module_version": "1.0.0",
            "_view_name": "OutputView",
            "layout": "IPY_MODEL_3b9afa70537a43f8951045a5c03c7a10",
            "msg_id": "",
            "outputs": [
              {
                "output_type": "display_data",
                "data": {
                  "text/plain": "Sampling chain 1, 0 divergences \u001b[32m━━━━━━━━━━━━━━━━━━━━━━━━━━━━━━━━━━━━━━━━\u001b[0m \u001b[35m100%\u001b[0m \u001b[36m0:00:00\u001b[0m / \u001b[33m0:00:06\u001b[0m\n",
                  "text/html": "<pre style=\"white-space:pre;overflow-x:auto;line-height:normal;font-family:Menlo,'DejaVu Sans Mono',consolas,'Courier New',monospace\">Sampling chain 1, 0 divergences <span style=\"color: #008000; text-decoration-color: #008000\">━━━━━━━━━━━━━━━━━━━━━━━━━━━━━━━━━━━━━━━━</span> <span style=\"color: #800080; text-decoration-color: #800080\">100%</span> <span style=\"color: #008080; text-decoration-color: #008080\">0:00:00</span> / <span style=\"color: #808000; text-decoration-color: #808000\">0:00:06</span>\n</pre>\n"
                },
                "metadata": {}
              }
            ]
          }
        },
        "3b9afa70537a43f8951045a5c03c7a10": {
          "model_module": "@jupyter-widgets/base",
          "model_name": "LayoutModel",
          "model_module_version": "1.2.0",
          "state": {
            "_model_module": "@jupyter-widgets/base",
            "_model_module_version": "1.2.0",
            "_model_name": "LayoutModel",
            "_view_count": null,
            "_view_module": "@jupyter-widgets/base",
            "_view_module_version": "1.2.0",
            "_view_name": "LayoutView",
            "align_content": null,
            "align_items": null,
            "align_self": null,
            "border": null,
            "bottom": null,
            "display": null,
            "flex": null,
            "flex_flow": null,
            "grid_area": null,
            "grid_auto_columns": null,
            "grid_auto_flow": null,
            "grid_auto_rows": null,
            "grid_column": null,
            "grid_gap": null,
            "grid_row": null,
            "grid_template_areas": null,
            "grid_template_columns": null,
            "grid_template_rows": null,
            "height": null,
            "justify_content": null,
            "justify_items": null,
            "left": null,
            "margin": null,
            "max_height": null,
            "max_width": null,
            "min_height": null,
            "min_width": null,
            "object_fit": null,
            "object_position": null,
            "order": null,
            "overflow": null,
            "overflow_x": null,
            "overflow_y": null,
            "padding": null,
            "right": null,
            "top": null,
            "visibility": null,
            "width": null
          }
        }
      }
    }
  },
  "cells": [
    {
      "cell_type": "markdown",
      "metadata": {
        "id": "view-in-github",
        "colab_type": "text"
      },
      "source": [
        "<a href=\"https://colab.research.google.com/github/CorleoneAppolonia/PMP-2024/blob/main/Lab%2012/tema.ipynb\" target=\"_parent\"><img src=\"https://colab.research.google.com/assets/colab-badge.svg\" alt=\"Open In Colab\"/></a>"
      ]
    },
    {
      "cell_type": "code",
      "execution_count": 38,
      "metadata": {
        "id": "1Pyc-9aBm3AQ"
      },
      "outputs": [],
      "source": [
        "import numpy as np\n",
        "import matplotlib.pyplot as plt\n",
        "import pymc as pm\n",
        "import arviz as az\n"
      ]
    },
    {
      "cell_type": "code",
      "source": [
        "!pip install pymc arviz --quiet\n",
        "\n",
        "import numpy as np\n",
        "import pymc as pm\n",
        "import arviz as az\n",
        "import matplotlib.pyplot as plt\n",
        "\n",
        "# Datele observate\n",
        "x = np.array([1, 3, 4, 5, 6, 8])\n",
        "y = np.array([0, 0, 1, 1, 1, 1])\n",
        "\n",
        "# Definim modelul Bayesian de regresie logistică\n",
        "# Model: p = logistic(alpha + beta * x)\n",
        "with pm.Model() as model:\n",
        "    # Priori pentru intercept (alpha) si panta (beta)\n",
        "    alpha = pm.Normal(\"alpha\", mu=0, sigma=10)\n",
        "    beta = pm.Normal(\"beta\", mu=0, sigma=10)\n",
        "\n",
        "    # Definim parametrul logistic\n",
        "    p = pm.Deterministic(\"p\", pm.math.sigmoid(alpha + beta * x))\n",
        "\n",
        "    # Verosimilitatea\n",
        "    y_obs = pm.Bernoulli(\"y_obs\", p=p, observed=y)\n",
        "\n",
        "    # Eșantionare cu NUTS sau alt sampler MCMC\n",
        "    trace = pm.sample(2000, tune=1000, target_accept=0.9, random_seed=42)\n",
        "\n",
        "# Rezumatul inferenței\n",
        "az.summary(trace, var_names=[\"alpha\",\"beta\"])\n"
      ],
      "metadata": {
        "colab": {
          "base_uri": "https://localhost:8080/",
          "height": 163,
          "referenced_widgets": [
            "8c0e33adf6744d648c7a2b3f476f2214",
            "ee2c6842d4d2423785b5c0b7865e1adb",
            "a17fa52ccf05404c9bf1d3b7800b6865",
            "232dad46b9c9423ca68540174ad207e4"
          ]
        },
        "collapsed": true,
        "id": "AZ2pMi4WnNC-",
        "outputId": "d1fbb1b3-03de-48b5-c6b8-60c81bc144ca"
      },
      "execution_count": 52,
      "outputs": [
        {
          "output_type": "display_data",
          "data": {
            "text/plain": [
              "Output()"
            ],
            "application/vnd.jupyter.widget-view+json": {
              "version_major": 2,
              "version_minor": 0,
              "model_id": "8c0e33adf6744d648c7a2b3f476f2214"
            }
          },
          "metadata": {}
        },
        {
          "output_type": "display_data",
          "data": {
            "text/plain": [],
            "text/html": [
              "<pre style=\"white-space:pre;overflow-x:auto;line-height:normal;font-family:Menlo,'DejaVu Sans Mono',consolas,'Courier New',monospace\"></pre>\n"
            ]
          },
          "metadata": {}
        },
        {
          "output_type": "display_data",
          "data": {
            "text/plain": [
              "Output()"
            ],
            "application/vnd.jupyter.widget-view+json": {
              "version_major": 2,
              "version_minor": 0,
              "model_id": "a17fa52ccf05404c9bf1d3b7800b6865"
            }
          },
          "metadata": {}
        },
        {
          "output_type": "display_data",
          "data": {
            "text/plain": [],
            "text/html": [
              "<pre style=\"white-space:pre;overflow-x:auto;line-height:normal;font-family:Menlo,'DejaVu Sans Mono',consolas,'Courier New',monospace\"></pre>\n"
            ]
          },
          "metadata": {}
        },
        {
          "output_type": "stream",
          "name": "stderr",
          "text": [
            "ERROR:pymc.stats.convergence:There were 323 divergences after tuning. Increase `target_accept` or reparameterize.\n"
          ]
        },
        {
          "output_type": "execute_result",
          "data": {
            "text/plain": [
              "         mean     sd  hdi_3%  hdi_97%  mcse_mean  mcse_sd  ess_bulk  ess_tail  \\\n",
              "alpha -11.480  6.065 -22.298   -1.166      0.299    0.258     450.0     237.0   \n",
              "beta    3.447  1.688   0.574    6.607      0.080    0.066     457.0     239.0   \n",
              "\n",
              "       r_hat  \n",
              "alpha   1.01  \n",
              "beta    1.01  "
            ],
            "text/html": [
              "\n",
              "  <div id=\"df-f6634fe0-8c2e-4a83-b049-ceb96d54b158\" class=\"colab-df-container\">\n",
              "    <div>\n",
              "<style scoped>\n",
              "    .dataframe tbody tr th:only-of-type {\n",
              "        vertical-align: middle;\n",
              "    }\n",
              "\n",
              "    .dataframe tbody tr th {\n",
              "        vertical-align: top;\n",
              "    }\n",
              "\n",
              "    .dataframe thead th {\n",
              "        text-align: right;\n",
              "    }\n",
              "</style>\n",
              "<table border=\"1\" class=\"dataframe\">\n",
              "  <thead>\n",
              "    <tr style=\"text-align: right;\">\n",
              "      <th></th>\n",
              "      <th>mean</th>\n",
              "      <th>sd</th>\n",
              "      <th>hdi_3%</th>\n",
              "      <th>hdi_97%</th>\n",
              "      <th>mcse_mean</th>\n",
              "      <th>mcse_sd</th>\n",
              "      <th>ess_bulk</th>\n",
              "      <th>ess_tail</th>\n",
              "      <th>r_hat</th>\n",
              "    </tr>\n",
              "  </thead>\n",
              "  <tbody>\n",
              "    <tr>\n",
              "      <th>alpha</th>\n",
              "      <td>-11.480</td>\n",
              "      <td>6.065</td>\n",
              "      <td>-22.298</td>\n",
              "      <td>-1.166</td>\n",
              "      <td>0.299</td>\n",
              "      <td>0.258</td>\n",
              "      <td>450.0</td>\n",
              "      <td>237.0</td>\n",
              "      <td>1.01</td>\n",
              "    </tr>\n",
              "    <tr>\n",
              "      <th>beta</th>\n",
              "      <td>3.447</td>\n",
              "      <td>1.688</td>\n",
              "      <td>0.574</td>\n",
              "      <td>6.607</td>\n",
              "      <td>0.080</td>\n",
              "      <td>0.066</td>\n",
              "      <td>457.0</td>\n",
              "      <td>239.0</td>\n",
              "      <td>1.01</td>\n",
              "    </tr>\n",
              "  </tbody>\n",
              "</table>\n",
              "</div>\n",
              "    <div class=\"colab-df-buttons\">\n",
              "\n",
              "  <div class=\"colab-df-container\">\n",
              "    <button class=\"colab-df-convert\" onclick=\"convertToInteractive('df-f6634fe0-8c2e-4a83-b049-ceb96d54b158')\"\n",
              "            title=\"Convert this dataframe to an interactive table.\"\n",
              "            style=\"display:none;\">\n",
              "\n",
              "  <svg xmlns=\"http://www.w3.org/2000/svg\" height=\"24px\" viewBox=\"0 -960 960 960\">\n",
              "    <path d=\"M120-120v-720h720v720H120Zm60-500h600v-160H180v160Zm220 220h160v-160H400v160Zm0 220h160v-160H400v160ZM180-400h160v-160H180v160Zm440 0h160v-160H620v160ZM180-180h160v-160H180v160Zm440 0h160v-160H620v160Z\"/>\n",
              "  </svg>\n",
              "    </button>\n",
              "\n",
              "  <style>\n",
              "    .colab-df-container {\n",
              "      display:flex;\n",
              "      gap: 12px;\n",
              "    }\n",
              "\n",
              "    .colab-df-convert {\n",
              "      background-color: #E8F0FE;\n",
              "      border: none;\n",
              "      border-radius: 50%;\n",
              "      cursor: pointer;\n",
              "      display: none;\n",
              "      fill: #1967D2;\n",
              "      height: 32px;\n",
              "      padding: 0 0 0 0;\n",
              "      width: 32px;\n",
              "    }\n",
              "\n",
              "    .colab-df-convert:hover {\n",
              "      background-color: #E2EBFA;\n",
              "      box-shadow: 0px 1px 2px rgba(60, 64, 67, 0.3), 0px 1px 3px 1px rgba(60, 64, 67, 0.15);\n",
              "      fill: #174EA6;\n",
              "    }\n",
              "\n",
              "    .colab-df-buttons div {\n",
              "      margin-bottom: 4px;\n",
              "    }\n",
              "\n",
              "    [theme=dark] .colab-df-convert {\n",
              "      background-color: #3B4455;\n",
              "      fill: #D2E3FC;\n",
              "    }\n",
              "\n",
              "    [theme=dark] .colab-df-convert:hover {\n",
              "      background-color: #434B5C;\n",
              "      box-shadow: 0px 1px 3px 1px rgba(0, 0, 0, 0.15);\n",
              "      filter: drop-shadow(0px 1px 2px rgba(0, 0, 0, 0.3));\n",
              "      fill: #FFFFFF;\n",
              "    }\n",
              "  </style>\n",
              "\n",
              "    <script>\n",
              "      const buttonEl =\n",
              "        document.querySelector('#df-f6634fe0-8c2e-4a83-b049-ceb96d54b158 button.colab-df-convert');\n",
              "      buttonEl.style.display =\n",
              "        google.colab.kernel.accessAllowed ? 'block' : 'none';\n",
              "\n",
              "      async function convertToInteractive(key) {\n",
              "        const element = document.querySelector('#df-f6634fe0-8c2e-4a83-b049-ceb96d54b158');\n",
              "        const dataTable =\n",
              "          await google.colab.kernel.invokeFunction('convertToInteractive',\n",
              "                                                    [key], {});\n",
              "        if (!dataTable) return;\n",
              "\n",
              "        const docLinkHtml = 'Like what you see? Visit the ' +\n",
              "          '<a target=\"_blank\" href=https://colab.research.google.com/notebooks/data_table.ipynb>data table notebook</a>'\n",
              "          + ' to learn more about interactive tables.';\n",
              "        element.innerHTML = '';\n",
              "        dataTable['output_type'] = 'display_data';\n",
              "        await google.colab.output.renderOutput(dataTable, element);\n",
              "        const docLink = document.createElement('div');\n",
              "        docLink.innerHTML = docLinkHtml;\n",
              "        element.appendChild(docLink);\n",
              "      }\n",
              "    </script>\n",
              "  </div>\n",
              "\n",
              "\n",
              "<div id=\"df-d242fd3c-9075-42eb-8512-e86e2da5a380\">\n",
              "  <button class=\"colab-df-quickchart\" onclick=\"quickchart('df-d242fd3c-9075-42eb-8512-e86e2da5a380')\"\n",
              "            title=\"Suggest charts\"\n",
              "            style=\"display:none;\">\n",
              "\n",
              "<svg xmlns=\"http://www.w3.org/2000/svg\" height=\"24px\"viewBox=\"0 0 24 24\"\n",
              "     width=\"24px\">\n",
              "    <g>\n",
              "        <path d=\"M19 3H5c-1.1 0-2 .9-2 2v14c0 1.1.9 2 2 2h14c1.1 0 2-.9 2-2V5c0-1.1-.9-2-2-2zM9 17H7v-7h2v7zm4 0h-2V7h2v10zm4 0h-2v-4h2v4z\"/>\n",
              "    </g>\n",
              "</svg>\n",
              "  </button>\n",
              "\n",
              "<style>\n",
              "  .colab-df-quickchart {\n",
              "      --bg-color: #E8F0FE;\n",
              "      --fill-color: #1967D2;\n",
              "      --hover-bg-color: #E2EBFA;\n",
              "      --hover-fill-color: #174EA6;\n",
              "      --disabled-fill-color: #AAA;\n",
              "      --disabled-bg-color: #DDD;\n",
              "  }\n",
              "\n",
              "  [theme=dark] .colab-df-quickchart {\n",
              "      --bg-color: #3B4455;\n",
              "      --fill-color: #D2E3FC;\n",
              "      --hover-bg-color: #434B5C;\n",
              "      --hover-fill-color: #FFFFFF;\n",
              "      --disabled-bg-color: #3B4455;\n",
              "      --disabled-fill-color: #666;\n",
              "  }\n",
              "\n",
              "  .colab-df-quickchart {\n",
              "    background-color: var(--bg-color);\n",
              "    border: none;\n",
              "    border-radius: 50%;\n",
              "    cursor: pointer;\n",
              "    display: none;\n",
              "    fill: var(--fill-color);\n",
              "    height: 32px;\n",
              "    padding: 0;\n",
              "    width: 32px;\n",
              "  }\n",
              "\n",
              "  .colab-df-quickchart:hover {\n",
              "    background-color: var(--hover-bg-color);\n",
              "    box-shadow: 0 1px 2px rgba(60, 64, 67, 0.3), 0 1px 3px 1px rgba(60, 64, 67, 0.15);\n",
              "    fill: var(--button-hover-fill-color);\n",
              "  }\n",
              "\n",
              "  .colab-df-quickchart-complete:disabled,\n",
              "  .colab-df-quickchart-complete:disabled:hover {\n",
              "    background-color: var(--disabled-bg-color);\n",
              "    fill: var(--disabled-fill-color);\n",
              "    box-shadow: none;\n",
              "  }\n",
              "\n",
              "  .colab-df-spinner {\n",
              "    border: 2px solid var(--fill-color);\n",
              "    border-color: transparent;\n",
              "    border-bottom-color: var(--fill-color);\n",
              "    animation:\n",
              "      spin 1s steps(1) infinite;\n",
              "  }\n",
              "\n",
              "  @keyframes spin {\n",
              "    0% {\n",
              "      border-color: transparent;\n",
              "      border-bottom-color: var(--fill-color);\n",
              "      border-left-color: var(--fill-color);\n",
              "    }\n",
              "    20% {\n",
              "      border-color: transparent;\n",
              "      border-left-color: var(--fill-color);\n",
              "      border-top-color: var(--fill-color);\n",
              "    }\n",
              "    30% {\n",
              "      border-color: transparent;\n",
              "      border-left-color: var(--fill-color);\n",
              "      border-top-color: var(--fill-color);\n",
              "      border-right-color: var(--fill-color);\n",
              "    }\n",
              "    40% {\n",
              "      border-color: transparent;\n",
              "      border-right-color: var(--fill-color);\n",
              "      border-top-color: var(--fill-color);\n",
              "    }\n",
              "    60% {\n",
              "      border-color: transparent;\n",
              "      border-right-color: var(--fill-color);\n",
              "    }\n",
              "    80% {\n",
              "      border-color: transparent;\n",
              "      border-right-color: var(--fill-color);\n",
              "      border-bottom-color: var(--fill-color);\n",
              "    }\n",
              "    90% {\n",
              "      border-color: transparent;\n",
              "      border-bottom-color: var(--fill-color);\n",
              "    }\n",
              "  }\n",
              "</style>\n",
              "\n",
              "  <script>\n",
              "    async function quickchart(key) {\n",
              "      const quickchartButtonEl =\n",
              "        document.querySelector('#' + key + ' button');\n",
              "      quickchartButtonEl.disabled = true;  // To prevent multiple clicks.\n",
              "      quickchartButtonEl.classList.add('colab-df-spinner');\n",
              "      try {\n",
              "        const charts = await google.colab.kernel.invokeFunction(\n",
              "            'suggestCharts', [key], {});\n",
              "      } catch (error) {\n",
              "        console.error('Error during call to suggestCharts:', error);\n",
              "      }\n",
              "      quickchartButtonEl.classList.remove('colab-df-spinner');\n",
              "      quickchartButtonEl.classList.add('colab-df-quickchart-complete');\n",
              "    }\n",
              "    (() => {\n",
              "      let quickchartButtonEl =\n",
              "        document.querySelector('#df-d242fd3c-9075-42eb-8512-e86e2da5a380 button');\n",
              "      quickchartButtonEl.style.display =\n",
              "        google.colab.kernel.accessAllowed ? 'block' : 'none';\n",
              "    })();\n",
              "  </script>\n",
              "</div>\n",
              "\n",
              "    </div>\n",
              "  </div>\n"
            ],
            "application/vnd.google.colaboratory.intrinsic+json": {
              "type": "dataframe",
              "summary": "{\n  \"name\": \"az\",\n  \"rows\": 2,\n  \"fields\": [\n    {\n      \"column\": \"mean\",\n      \"properties\": {\n        \"dtype\": \"number\",\n        \"std\": 10.554982922771595,\n        \"min\": -11.48,\n        \"max\": 3.447,\n        \"num_unique_values\": 2,\n        \"samples\": [\n          3.447,\n          -11.48\n        ],\n        \"semantic_type\": \"\",\n        \"description\": \"\"\n      }\n    },\n    {\n      \"column\": \"sd\",\n      \"properties\": {\n        \"dtype\": \"number\",\n        \"std\": 3.095006381253519,\n        \"min\": 1.688,\n        \"max\": 6.065,\n        \"num_unique_values\": 2,\n        \"samples\": [\n          1.688,\n          6.065\n        ],\n        \"semantic_type\": \"\",\n        \"description\": \"\"\n      }\n    },\n    {\n      \"column\": \"hdi_3%\",\n      \"properties\": {\n        \"dtype\": \"number\",\n        \"std\": 16.17294629929871,\n        \"min\": -22.298,\n        \"max\": 0.574,\n        \"num_unique_values\": 2,\n        \"samples\": [\n          0.574,\n          -22.298\n        ],\n        \"semantic_type\": \"\",\n        \"description\": \"\"\n      }\n    },\n    {\n      \"column\": \"hdi_97%\",\n      \"properties\": {\n        \"dtype\": \"number\",\n        \"std\": 5.496341010163034,\n        \"min\": -1.166,\n        \"max\": 6.607,\n        \"num_unique_values\": 2,\n        \"samples\": [\n          6.607,\n          -1.166\n        ],\n        \"semantic_type\": \"\",\n        \"description\": \"\"\n      }\n    },\n    {\n      \"column\": \"mcse_mean\",\n      \"properties\": {\n        \"dtype\": \"number\",\n        \"std\": 0.1548563850798539,\n        \"min\": 0.08,\n        \"max\": 0.299,\n        \"num_unique_values\": 2,\n        \"samples\": [\n          0.08,\n          0.299\n        ],\n        \"semantic_type\": \"\",\n        \"description\": \"\"\n      }\n    },\n    {\n      \"column\": \"mcse_sd\",\n      \"properties\": {\n        \"dtype\": \"number\",\n        \"std\": 0.13576450198781712,\n        \"min\": 0.066,\n        \"max\": 0.258,\n        \"num_unique_values\": 2,\n        \"samples\": [\n          0.066,\n          0.258\n        ],\n        \"semantic_type\": \"\",\n        \"description\": \"\"\n      }\n    },\n    {\n      \"column\": \"ess_bulk\",\n      \"properties\": {\n        \"dtype\": \"number\",\n        \"std\": 4.949747468305833,\n        \"min\": 450.0,\n        \"max\": 457.0,\n        \"num_unique_values\": 2,\n        \"samples\": [\n          457.0,\n          450.0\n        ],\n        \"semantic_type\": \"\",\n        \"description\": \"\"\n      }\n    },\n    {\n      \"column\": \"ess_tail\",\n      \"properties\": {\n        \"dtype\": \"number\",\n        \"std\": 1.4142135623730951,\n        \"min\": 237.0,\n        \"max\": 239.0,\n        \"num_unique_values\": 2,\n        \"samples\": [\n          239.0,\n          237.0\n        ],\n        \"semantic_type\": \"\",\n        \"description\": \"\"\n      }\n    },\n    {\n      \"column\": \"r_hat\",\n      \"properties\": {\n        \"dtype\": \"number\",\n        \"std\": 0.0,\n        \"min\": 1.01,\n        \"max\": 1.01,\n        \"num_unique_values\": 1,\n        \"samples\": [\n          1.01\n        ],\n        \"semantic_type\": \"\",\n        \"description\": \"\"\n      }\n    }\n  ]\n}"
            }
          },
          "metadata": {},
          "execution_count": 52
        }
      ]
    },
    {
      "cell_type": "code",
      "source": [
        "# Extragem eșantioanele posterioare\n",
        "alpha_samples = trace.posterior[\"alpha\"].values.flatten()\n",
        "beta_samples = trace.posterior[\"beta\"].values.flatten()\n",
        "\n",
        "# Calculăm frontiera de decizie pentru fiecare eșantion\n",
        "x_frontier_samples = -alpha_samples / beta_samples\n",
        "\n",
        "# Calculăm intervale de credibilitate (HDI) pentru frontiera de decizie\n",
        "hdi_frontier = az.hdi(x_frontier_samples, hdi_prob=0.95)\n",
        "median_frontier = np.median(x_frontier_samples)\n",
        "\n",
        "print(\"Frontiera de decizie mediană:\", median_frontier)\n",
        "print(\"95% HDI pentru frontiera de decizie:\", hdi_frontier)\n"
      ],
      "metadata": {
        "colab": {
          "base_uri": "https://localhost:8080/"
        },
        "id": "hY71me3_pNXE",
        "outputId": "a1031c60-59af-4cfb-eb07-f54182e133e6"
      },
      "execution_count": null,
      "outputs": [
        {
          "output_type": "stream",
          "name": "stdout",
          "text": [
            "Frontiera de decizie mediană: 3.316688005949398\n",
            "95% HDI pentru frontiera de decizie: [1.88850663 4.75742968]\n"
          ]
        }
      ]
    },
    {
      "cell_type": "code",
      "source": [
        "# Construim un grid de valori x pentru a vedea curba logistică\n",
        "x_grid = np.linspace(min(x), max(x), 100)\n",
        "p_samples = []\n",
        "\n",
        "for alpha_s, beta_s in zip(alpha_samples, beta_samples):\n",
        "    p_samples.append(1 / (1 + np.exp(-(alpha_s + beta_s * x_grid))))\n",
        "\n",
        "p_samples = np.array(p_samples)  # shape: (n_samples, len(x_grid))\n",
        "\n",
        "# Calculăm mediană și HDI pentru fiecare x din grid\n",
        "p_median = np.median(p_samples, axis=0)\n",
        "p_hdi = az.hdi(p_samples, hdi_prob=0.95)\n",
        "\n",
        "# Afișarea rezultatelor\n",
        "plt.figure(figsize=(8,6))\n",
        "# Punctele observate\n",
        "plt.scatter(x, y, color='black', zorder=10, label=\"Date observate (0/1)\")\n",
        "\n",
        "# Curba mediană\n",
        "plt.plot(x_grid, p_median, color='red', label=\"Probabilitate mediană\")\n",
        "\n",
        "# Bandă de incertitudine\n",
        "plt.fill_between(x_grid, p_hdi[:,0], p_hdi[:,1], alpha=0.3, color='red', label=\"95% HDI probabilități\")\n",
        "\n",
        "# Linie verticală la frontiera mediană\n",
        "plt.axvline(median_frontier, color='blue', linestyle='--', label='Frontieră mediană')\n",
        "\n",
        "plt.xlabel(\"Ore de studiu pe săptămână\")\n",
        "plt.ylabel(\"Probabilitate de promovare\")\n",
        "plt.title(\"Regresie logistică Bayesiană\")\n",
        "plt.legend()\n",
        "plt.grid(True)\n",
        "plt.show()\n"
      ],
      "metadata": {
        "colab": {
          "base_uri": "https://localhost:8080/",
          "height": 621
        },
        "id": "IySWoSHRpQ5D",
        "outputId": "b0830928-57c0-4ac2-c60e-b6814e766408"
      },
      "execution_count": null,
      "outputs": [
        {
          "output_type": "stream",
          "name": "stderr",
          "text": [
            "<ipython-input-6-e4254ca1b4e9>:12: FutureWarning: hdi currently interprets 2d data as (draw, shape) but this will change in a future release to (chain, draw) for coherence with other functions\n",
            "  p_hdi = az.hdi(p_samples, hdi_prob=0.95)\n"
          ]
        },
        {
          "output_type": "display_data",
          "data": {
            "text/plain": [
              "<Figure size 800x600 with 1 Axes>"
            ],
            "image/png": "[encoded data removed]"
          },
          "metadata": {}
        }
      ]
    },
    {
      "cell_type": "markdown",
      "source": [
        "Problema 2)"
      ],
      "metadata": {
        "id": "mNwgHLvmD-vC"
      }
    },
    {
      "cell_type": "markdown",
      "source": [
        "a) Folosind distribuţii a priori slab informative asupra parametrilor β0, β1 şi β2, folosiţi PyMC pentru a\n",
        "simula un eşantion suficient de mare (construi modelul) din distribuţia a posteriori."
      ],
      "metadata": {
        "id": "vO7IEswPEuZC"
      }
    },
    {
      "cell_type": "code",
      "source": [
        "!pip install pymc arviz --quiet\n",
        "\n",
        "import pandas as pd\n",
        "import numpy as np\n",
        "import pymc as pm\n",
        "import arviz as az\n",
        "import matplotlib.pyplot as plt\n",
        "\n",
        "# Citim datele\n",
        "data = pd.read_csv(\"Admission.csv\", sep=\",\")  # Dacă separatorul este virgulă\n",
        "GRE = data['GRE'].values\n",
        "GPA = data['GPA'].values\n",
        "y = data['Admission'].values # This is the change - extracting the correct y values\n",
        "\n",
        "\n",
        "data['GRE'] = (data['GRE'] - data['GRE'].mean()) / data['GRE'].std()\n",
        "data['GPA'] = (data['GPA'] - data['GPA'].mean()) / data['GPA'].std()\n",
        "\n",
        "\n",
        "# Standardizarea predictorilor (opțional, dar poate ajuta la convergență)\n",
        "# Aici putem decide sa standardizăm sau doar să centram\n",
        "GRE_mean, GRE_std = GRE.mean(), GRE.std()\n",
        "GPA_mean, GPA_std = GPA.mean(), GPA.std()\n",
        "\n",
        "GRE_s = (GRE - GRE_mean)/GRE_std\n",
        "GPA_s = (GPA - GPA_mean)/GPA_std\n",
        "\n",
        "with pm.Model() as model:\n",
        "    # Priori slab informative\n",
        "    alpha = pm.Normal(\"alpha\", mu=0, sigma=10)\n",
        "    beta_GRE = pm.Normal(\"beta_GRE\", mu=0, sigma=10)\n",
        "    beta_GPA = pm.Normal(\"beta_GPA\", mu=0, sigma=10)\n",
        "\n",
        "    # Modelul liniar\n",
        "    mu = alpha + beta_GRE * GRE_s + beta_GPA * GPA_s\n",
        "    p = pm.Deterministic(\"p\", pm.math.sigmoid(mu))\n",
        "\n",
        "    # Verosimilitate\n",
        "    y_obs = pm.Bernoulli(\"y_obs\", p=p, observed=y)\n",
        "\n",
        "    # Eșantionare\n",
        "    trace = pm.sample(2000, tune=1000, target_accept=0.9, random_seed=42)\n",
        "    idata = trace\n",
        "\n",
        "# Rezumat parametri\n",
        "print(az.summary(idata, var_names=[\"alpha\",\"beta_GRE\",\"beta_GPA\"]))\n"
      ],
      "metadata": {
        "colab": {
          "base_uri": "https://localhost:8080/",
          "height": 207,
          "referenced_widgets": [
            "38a640c8018f4796bd4314443d3b8655",
            "2c8119f553294c748adb3ee5ef857383",
            "e76f6a7bbd9e41bcabaa7526d70c4d6d",
            "3b9afa70537a43f8951045a5c03c7a10"
          ]
        },
        "id": "MCEPrh7LFi_k",
        "outputId": "7e37ebfc-7f17-4ae1-fbbb-d60da3a880c2"
      },
      "execution_count": 44,
      "outputs": [
        {
          "output_type": "display_data",
          "data": {
            "text/plain": [
              "Output()"
            ],
            "application/vnd.jupyter.widget-view+json": {
              "version_major": 2,
              "version_minor": 0,
              "model_id": "38a640c8018f4796bd4314443d3b8655"
            }
          },
          "metadata": {}
        },
        {
          "output_type": "display_data",
          "data": {
            "text/plain": [],
            "text/html": [
              "<pre style=\"white-space:pre;overflow-x:auto;line-height:normal;font-family:Menlo,'DejaVu Sans Mono',consolas,'Courier New',monospace\"></pre>\n"
            ]
          },
          "metadata": {}
        },
        {
          "output_type": "display_data",
          "data": {
            "text/plain": [
              "Output()"
            ],
            "application/vnd.jupyter.widget-view+json": {
              "version_major": 2,
              "version_minor": 0,
              "model_id": "e76f6a7bbd9e41bcabaa7526d70c4d6d"
            }
          },
          "metadata": {}
        },
        {
          "output_type": "display_data",
          "data": {
            "text/plain": [],
            "text/html": [
              "<pre style=\"white-space:pre;overflow-x:auto;line-height:normal;font-family:Menlo,'DejaVu Sans Mono',consolas,'Courier New',monospace\"></pre>\n"
            ]
          },
          "metadata": {}
        },
        {
          "output_type": "stream",
          "name": "stdout",
          "text": [
            "           mean     sd  hdi_3%  hdi_97%  mcse_mean  mcse_sd  ess_bulk  \\\n",
            "alpha    -0.815  0.111  -1.031   -0.616      0.002    0.001    3159.0   \n",
            "beta_GRE  0.312  0.123   0.093    0.544      0.002    0.002    3275.0   \n",
            "beta_GPA  0.288  0.120   0.054    0.510      0.002    0.002    2895.0   \n",
            "\n",
            "          ess_tail  r_hat  \n",
            "alpha       2706.0    1.0  \n",
            "beta_GRE    2902.0    1.0  \n",
            "beta_GPA    2741.0    1.0  \n"
          ]
        }
      ]
    },
    {
      "cell_type": "code",
      "source": [
        "\n",
        "# (b) Granita de decizie\n",
        "# frontiera de decizie este dată de p=0.5 => mu=0 => alpha + beta_GRE*GRE_s + beta_GPA*GPA_s =0\n",
        "# Pentru a trasa frontiera, alegem un grid de GRE, apoi rezolvăm pentru GPA:\n",
        "# GPA_s = -(alpha + beta_GRE*GRE_s)/beta_GPA\n",
        "# GPA = GPA_s*GPA_std + GPA_mean\n",
        "\n",
        "# Extragem eșantioane posterioare\n",
        "alpha_samples = idata.posterior[\"alpha\"].values.flatten()\n",
        "betaGRE_samples = idata.posterior[\"beta_GRE\"].values.flatten()\n",
        "betaGPA_samples = idata.posterior[\"beta_GPA\"].values.flatten()\n",
        "\n",
        "GRE_grid = np.linspace(GRE.min(), GRE.max(), 100)\n",
        "GRE_s_grid = (GRE_grid - GRE_mean)/GRE_std\n",
        "\n",
        "# pentru fiecare eșantion calculăm frontiera:\n",
        "# GPA_s = -(alpha+beta_GRE*GRE_s)/beta_GPA\n",
        "# GPA = GPA_s*GPA_std + GPA_mean\n",
        "\n",
        "frontiers = []\n",
        "for a,bg,bp in zip(alpha_samples, betaGRE_samples, betaGPA_samples):\n",
        "    frontier_GPA = -(a+bg*GRE_s_grid)/bp\n",
        "    frontier_GPA_real = frontier_GPA*GPA_std + GPA_mean\n",
        "    frontiers.append(frontier_GPA_real)\n",
        "frontiers = np.array(frontiers)\n",
        "\n",
        "frontier_median = np.median(frontiers, axis=0)\n",
        "frontier_hdi = az.hdi(frontiers, hdi_prob=0.94)\n",
        "\n",
        "# Plotam datele și frontiera de decizie\n",
        "plt.figure(figsize=(8,6))\n",
        "# Colorăm punctele în funcție de clasă\n",
        "plt.scatter(GRE, GPA, c=y, cmap=\"bwr\", alpha=0.7, label=\"Date observate (0=respins, 1=admis)\")\n",
        "plt.plot(GRE_grid, frontier_median, color='k', lw=2, label=\"Frontieră mediană\")\n",
        "plt.fill_between(GRE_grid, frontier_hdi[:,0], frontier_hdi[:,1], color='k', alpha=0.3, label=\"94% HDI frontiera\")\n",
        "\n",
        "plt.xlabel(\"GRE\")\n",
        "plt.ylabel(\"GPA\")\n",
        "plt.title(\"Frontiera de decizie logistică Bayesiană\")\n",
        "plt.legend()\n",
        "plt.grid(True)\n",
        "plt.show()\n"
      ],
      "metadata": {
        "id": "dFjvMcnjl_Z5",
        "outputId": "f9254532-b945-435e-d244-b0eee612d489",
        "colab": {
          "base_uri": "https://localhost:8080/",
          "height": 599
        }
      },
      "execution_count": 45,
      "outputs": [
        {
          "output_type": "stream",
          "name": "stderr",
          "text": [
            "<ipython-input-45-2e6e11153a87>:27: FutureWarning: hdi currently interprets 2d data as (draw, shape) but this will change in a future release to (chain, draw) for coherence with other functions\n",
            "  frontier_hdi = az.hdi(frontiers, hdi_prob=0.94)\n"
          ]
        },
        {
          "output_type": "display_data",
          "data": {
            "text/plain": [
              "<Figure size 800x600 with 1 Axes>"
            ],
            "image/png": "[encoded data removed]"
          },
          "metadata": {}
        }
      ]
    },
    {
      "cell_type": "code",
      "source": [
        "\n",
        "# (c) Probabilitatea pentru un student cu GRE=550, GPA=3.5\n",
        "GRE_new = 550\n",
        "GPA_new = 3.5\n",
        "GRE_new_s = (GRE_new - GRE_mean)/GRE_std\n",
        "GPA_new_s = (GPA_new - GPA_mean)/GPA_std\n",
        "\n",
        "p_new_samples = 1/(1+np.exp(-(alpha_samples + betaGRE_samples*GRE_new_s + betaGPA_samples*GPA_new_s)))\n",
        "p_new_median = np.median(p_new_samples)\n",
        "p_new_hdi = az.hdi(p_new_samples, hdi_prob=0.90)\n",
        "\n",
        "print(f\"Student 1: GRE=550, GPA=3.5 => Probabilitate mediană de admitere: {p_new_median:.2f}\")\n",
        "print(f\"Intervalul HDI de 90%: {p_new_hdi}\")\n"
      ],
      "metadata": {
        "id": "AVvkY7PvmA-H",
        "outputId": "3e1f779b-a490-4cc6-df77-e82b0379667e",
        "colab": {
          "base_uri": "https://localhost:8080/"
        }
      },
      "execution_count": 50,
      "outputs": [
        {
          "output_type": "stream",
          "name": "stdout",
          "text": [
            "Student 1: GRE=550, GPA=3.5 => Probabilitate mediană de admitere: 0.30\n",
            "Intervalul HDI de 90%: [0.25813915 0.3477352 ]\n"
          ]
        }
      ]
    },
    {
      "cell_type": "code",
      "source": [
        "\n",
        "# (d) Pentru GRE=500, GPA=3.2\n",
        "GRE_new2 = 500\n",
        "GPA_new2 = 3.2\n",
        "GRE_new2_s = (GRE_new2 - GRE_mean)/GRE_std\n",
        "GPA_new2_s = (GPA_new2 - GPA_mean)/GPA_std\n",
        "\n",
        "p_new2_samples = 1/(1+np.exp(-(alpha_samples + betaGRE_samples*GRE_new2_s + betaGPA_samples*GPA_new2_s)))\n",
        "p_new2_median = np.median(p_new2_samples)\n",
        "p_new2_hdi = az.hdi(p_new2_samples, hdi_prob=0.90)\n",
        "\n",
        "print(f\"Student 2: GRE=500, GPA=3.2 => Probabilitate mediană de admitere: {p_new2_median:.2f}\")\n",
        "print(f\"Intervalul HDI de 90%: {p_new2_hdi}\")\n",
        "\n",
        "# Comparație:\n",
        "# Observăm cum diferă intervalele și medianele probabilităților de admitere între cei doi studenți.\n"
      ],
      "metadata": {
        "id": "DEiYXFSmmCqZ",
        "outputId": "46f8198a-d9a3-4a0c-875e-b359bc14656a",
        "colab": {
          "base_uri": "https://localhost:8080/"
        }
      },
      "execution_count": 51,
      "outputs": [
        {
          "output_type": "stream",
          "name": "stdout",
          "text": [
            "Student 2: GRE=500, GPA=3.2 => Probabilitate mediană de admitere: 0.23\n",
            "Intervalul HDI de 90%: [0.19044753 0.27915999]\n"
          ]
        }
      ]
    },
    {
      "cell_type": "markdown",
      "source": [
        "Diferența probabilităților dintre punctele c) și d) rezultă din relația liniară dintre predictorii standardizați și probabilitatea logistică. Scăderea atât a GRE (de la 550 la 500) cât și a GPA (de la 3.5 la 3.2) determină o reducere cumulativă a probabilității de admitere, accentuată de importanța relativă mai mare a GRE în acest model.\n",
        "\n",
        "Incertitudinea modelului (reflectată de HDI) confirmă această concluzie: studentul din punctul d) are șanse semnificativ mai mici de admitere decât studentul din punctul c), într-un mod consistent cu coeficienții estimați de regresia logistică Bayesiană.\n",
        "\n",
        "\n",
        "\n",
        "\n",
        "\n",
        "\n"
      ],
      "metadata": {
        "id": "6VF5yHPNnmAM"
      }
    }
  ]
}