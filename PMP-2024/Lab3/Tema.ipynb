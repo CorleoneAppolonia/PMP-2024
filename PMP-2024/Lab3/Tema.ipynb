{
  "nbformat": 4,
  "nbformat_minor": 0,
  "metadata": {
    "colab": {
      "provenance": [],
      "authorship_tag": "ABX9TyPqnRgitwVe5dHmzKLBBhHi",
      "include_colab_link": true
    },
    "kernelspec": {
      "name": "python3",
      "display_name": "Python 3"
    },
    "language_info": {
      "name": "python"
    }
  },
  "cells": [
    {
      "cell_type": "markdown",
      "metadata": {
        "id": "view-in-github",
        "colab_type": "text"
      },
      "source": [
        "<a href=\"https://colab.research.google.com/github/CorleoneAppolonia/PMP-2024/blob/main/PMP-2024/Lab3/Tema.ipynb\" target=\"_parent\"><img src=\"https://colab.research.google.com/assets/colab-badge.svg\" alt=\"Open In Colab\"/></a>"
      ]
    },
    {
      "cell_type": "markdown",
      "source": [
        "\n",
        "**Exercitiul 1: Monty Hall Problem**"
      ],
      "metadata": {
        "id": "gh-KLeEae_90"
      }
    },
    {
      "cell_type": "markdown",
      "source": [
        "Problema Monty Hall este un experiment de probabilitate care implică trei uși: în spatele uneia se află un premiu (o mașină), iar în spatele celorlalte două se află capre. Jucătorul alege inițial o ușă, iar gazda, care știe unde este premiul, deschide o altă ușă care are o capră. Jucătorul are apoi opțiunea de a schimba alegerea inițială cu cealaltă ușă rămasă.\n",
        "\n",
        "Intuitiv, mulți cred că nu contează dacă schimbă, dar probabilitatea de câștig este mai mare (2/3) dacă jucătorul schimbă ușa, față de 1/3 dacă păstrează alegerea inițială.\n",
        "\n",
        "Codul de Implementare\n",
        "Acest cod folosește rețele Bayesiene (pgmpy) pentru a modela și rezolva problema Monty Hall.\n",
        "\n",
        "Importarea Bibliotecilor:\n",
        "\n",
        "Importăm bibliotecile necesare pentru a defini și lucra cu rețele Bayesiene (BayesianNetwork, TabularCPD, VariableElimination).\n",
        "\n",
        "\n",
        "Definirea Structurii Rețelei:\n",
        "\n",
        "Definim rețeaua Bayes folosind BayesianNetwork([('C', 'H'), ('P', 'H')]), unde:\n",
        "\n",
        "C este ușa aleasă de jucător.\n",
        "\n",
        "P este ușa cu premiul.\n",
        "\n",
        "H este ușa deschisă de gazdă.\n",
        "\n",
        "Relațiile (C, H) și (P, H) arată că H (ușa deschisă de gazda) depinde de C și P.\n",
        "\n",
        "Definirea CPD-urilor:\n",
        "\n",
        "cpd_c și cpd_p definesc distribuții uniforme pentru alegerea ușii de către jucător și locația premiului (1/3 pentru fiecare ușă).\n",
        "\n",
        "cpd_h definește probabilitățile pentru gazda de a deschide o ușă, condiționat de alegerile jucătorului (C) și de locația premiului (P). Matricea valorilor din cpd_h reflectă faptul că gazda deschide întotdeauna o ușă care nu conține premiul și care nu a fost aleasă de jucător.\n",
        "\n",
        "\n",
        "Asocierea CPD-urilor cu Modelul:\n",
        "\n",
        "CPD-urile (cpd_c, cpd_p, cpd_h) sunt adăugate la model prin model.add_cpds(), iar modelul este verificat folosind model.check_model().\n",
        "\n",
        "Calcularea Probabilităților prin Inferență:\n",
        "\n",
        "Folosim VariableElimination pentru a calcula probabilitățile de câștig în cele două scenarii:\n",
        "\n",
        "Dacă jucătorul schimbă alegerea inițială (C=0 și H=2):\n",
        " Calculăm probabilitatea ca premiul să fie în spatele unei alte uși decât cea aleasă inițial.\n",
        "\n",
        "Dacă jucătorul păstrează alegerea inițială (C=0 și H=1): Calculăm probabilitatea de câștig dacă rămâne la prima alegere.\n",
        "\n",
        "Rezultatele confirmă că schimbarea alegerii oferă o probabilitate mai mare de câștig (2/3) decât păstrarea alegerii inițiale (1/3)."
      ],
      "metadata": {
        "id": "H5lLzL7yEzeK"
      }
    },
    {
      "cell_type": "code",
      "source": [
        "\n",
        "!pip install pgmpy"
      ],
      "metadata": {
        "colab": {
          "base_uri": "https://localhost:8080/"
        },
        "collapsed": true,
        "id": "KLbjrgtjZLr4",
        "outputId": "62236d7a-5b76-4b88-e511-2c0e52f22dd4"
      },
      "execution_count": 4,
      "outputs": [
        {
          "output_type": "stream",
          "name": "stdout",
          "text": [
            "Collecting pgmpy\n",
            "  Downloading pgmpy-0.1.26-py3-none-any.whl.metadata (9.1 kB)\n",
            "Requirement already satisfied: networkx in /usr/local/lib/python3.10/dist-packages (from pgmpy) (3.4)\n",
            "Requirement already satisfied: numpy in /usr/local/lib/python3.10/dist-packages (from pgmpy) (1.26.4)\n",
            "Requirement already satisfied: scipy in /usr/local/lib/python3.10/dist-packages (from pgmpy) (1.13.1)\n",
            "Requirement already satisfied: scikit-learn in /usr/local/lib/python3.10/dist-packages (from pgmpy) (1.5.2)\n",
            "Requirement already satisfied: pandas in /usr/local/lib/python3.10/dist-packages (from pgmpy) (2.2.2)\n",
            "Requirement already satisfied: pyparsing in /usr/local/lib/python3.10/dist-packages (from pgmpy) (3.1.4)\n",
            "Requirement already satisfied: torch in /usr/local/lib/python3.10/dist-packages (from pgmpy) (2.4.1+cu121)\n",
            "Requirement already satisfied: statsmodels in /usr/local/lib/python3.10/dist-packages (from pgmpy) (0.14.4)\n",
            "Requirement already satisfied: tqdm in /usr/local/lib/python3.10/dist-packages (from pgmpy) (4.66.5)\n",
            "Requirement already satisfied: joblib in /usr/local/lib/python3.10/dist-packages (from pgmpy) (1.4.2)\n",
            "Requirement already satisfied: opt-einsum in /usr/local/lib/python3.10/dist-packages (from pgmpy) (3.4.0)\n",
            "Requirement already satisfied: xgboost in /usr/local/lib/python3.10/dist-packages (from pgmpy) (2.1.1)\n",
            "Requirement already satisfied: google-generativeai in /usr/local/lib/python3.10/dist-packages (from pgmpy) (0.7.2)\n",
            "Requirement already satisfied: google-ai-generativelanguage==0.6.6 in /usr/local/lib/python3.10/dist-packages (from google-generativeai->pgmpy) (0.6.6)\n",
            "Requirement already satisfied: google-api-core in /usr/local/lib/python3.10/dist-packages (from google-generativeai->pgmpy) (2.19.2)\n",
            "Requirement already satisfied: google-api-python-client in /usr/local/lib/python3.10/dist-packages (from google-generativeai->pgmpy) (2.137.0)\n",
            "Requirement already satisfied: google-auth>=2.15.0 in /usr/local/lib/python3.10/dist-packages (from google-generativeai->pgmpy) (2.27.0)\n",
            "Requirement already satisfied: protobuf in /usr/local/lib/python3.10/dist-packages (from google-generativeai->pgmpy) (3.20.3)\n",
            "Requirement already satisfied: pydantic in /usr/local/lib/python3.10/dist-packages (from google-generativeai->pgmpy) (2.9.2)\n",
            "Requirement already satisfied: typing-extensions in /usr/local/lib/python3.10/dist-packages (from google-generativeai->pgmpy) (4.12.2)\n",
            "Requirement already satisfied: proto-plus<2.0.0dev,>=1.22.3 in /usr/local/lib/python3.10/dist-packages (from google-ai-generativelanguage==0.6.6->google-generativeai->pgmpy) (1.24.0)\n",
            "Requirement already satisfied: python-dateutil>=2.8.2 in /usr/local/lib/python3.10/dist-packages (from pandas->pgmpy) (2.8.2)\n",
            "Requirement already satisfied: pytz>=2020.1 in /usr/local/lib/python3.10/dist-packages (from pandas->pgmpy) (2024.2)\n",
            "Requirement already satisfied: tzdata>=2022.7 in /usr/local/lib/python3.10/dist-packages (from pandas->pgmpy) (2024.2)\n",
            "Requirement already satisfied: threadpoolctl>=3.1.0 in /usr/local/lib/python3.10/dist-packages (from scikit-learn->pgmpy) (3.5.0)\n",
            "Requirement already satisfied: patsy>=0.5.6 in /usr/local/lib/python3.10/dist-packages (from statsmodels->pgmpy) (0.5.6)\n",
            "Requirement already satisfied: packaging>=21.3 in /usr/local/lib/python3.10/dist-packages (from statsmodels->pgmpy) (24.1)\n",
            "Requirement already satisfied: filelock in /usr/local/lib/python3.10/dist-packages (from torch->pgmpy) (3.16.1)\n",
            "Requirement already satisfied: sympy in /usr/local/lib/python3.10/dist-packages (from torch->pgmpy) (1.13.3)\n",
            "Requirement already satisfied: jinja2 in /usr/local/lib/python3.10/dist-packages (from torch->pgmpy) (3.1.4)\n",
            "Requirement already satisfied: fsspec in /usr/local/lib/python3.10/dist-packages (from torch->pgmpy) (2024.6.1)\n",
            "Requirement already satisfied: nvidia-nccl-cu12 in /usr/local/lib/python3.10/dist-packages (from xgboost->pgmpy) (2.23.4)\n",
            "Requirement already satisfied: googleapis-common-protos<2.0.dev0,>=1.56.2 in /usr/local/lib/python3.10/dist-packages (from google-api-core->google-generativeai->pgmpy) (1.65.0)\n",
            "Requirement already satisfied: requests<3.0.0.dev0,>=2.18.0 in /usr/local/lib/python3.10/dist-packages (from google-api-core->google-generativeai->pgmpy) (2.32.3)\n",
            "Requirement already satisfied: cachetools<6.0,>=2.0.0 in /usr/local/lib/python3.10/dist-packages (from google-auth>=2.15.0->google-generativeai->pgmpy) (5.5.0)\n",
            "Requirement already satisfied: pyasn1-modules>=0.2.1 in /usr/local/lib/python3.10/dist-packages (from google-auth>=2.15.0->google-generativeai->pgmpy) (0.4.1)\n",
            "Requirement already satisfied: rsa<5,>=3.1.4 in /usr/local/lib/python3.10/dist-packages (from google-auth>=2.15.0->google-generativeai->pgmpy) (4.9)\n",
            "Requirement already satisfied: six in /usr/local/lib/python3.10/dist-packages (from patsy>=0.5.6->statsmodels->pgmpy) (1.16.0)\n",
            "Requirement already satisfied: httplib2<1.dev0,>=0.19.0 in /usr/local/lib/python3.10/dist-packages (from google-api-python-client->google-generativeai->pgmpy) (0.22.0)\n",
            "Requirement already satisfied: google-auth-httplib2<1.0.0,>=0.2.0 in /usr/local/lib/python3.10/dist-packages (from google-api-python-client->google-generativeai->pgmpy) (0.2.0)\n",
            "Requirement already satisfied: uritemplate<5,>=3.0.1 in /usr/local/lib/python3.10/dist-packages (from google-api-python-client->google-generativeai->pgmpy) (4.1.1)\n",
            "Requirement already satisfied: MarkupSafe>=2.0 in /usr/local/lib/python3.10/dist-packages (from jinja2->torch->pgmpy) (3.0.1)\n",
            "Requirement already satisfied: annotated-types>=0.6.0 in /usr/local/lib/python3.10/dist-packages (from pydantic->google-generativeai->pgmpy) (0.7.0)\n",
            "Requirement already satisfied: pydantic-core==2.23.4 in /usr/local/lib/python3.10/dist-packages (from pydantic->google-generativeai->pgmpy) (2.23.4)\n",
            "Requirement already satisfied: mpmath<1.4,>=1.1.0 in /usr/local/lib/python3.10/dist-packages (from sympy->torch->pgmpy) (1.3.0)\n",
            "Requirement already satisfied: grpcio<2.0dev,>=1.33.2 in /usr/local/lib/python3.10/dist-packages (from google-api-core[grpc]!=2.0.*,!=2.1.*,!=2.10.*,!=2.2.*,!=2.3.*,!=2.4.*,!=2.5.*,!=2.6.*,!=2.7.*,!=2.8.*,!=2.9.*,<3.0.0dev,>=1.34.1->google-ai-generativelanguage==0.6.6->google-generativeai->pgmpy) (1.64.1)\n",
            "Requirement already satisfied: grpcio-status<2.0.dev0,>=1.33.2 in /usr/local/lib/python3.10/dist-packages (from google-api-core[grpc]!=2.0.*,!=2.1.*,!=2.10.*,!=2.2.*,!=2.3.*,!=2.4.*,!=2.5.*,!=2.6.*,!=2.7.*,!=2.8.*,!=2.9.*,<3.0.0dev,>=1.34.1->google-ai-generativelanguage==0.6.6->google-generativeai->pgmpy) (1.48.2)\n",
            "Requirement already satisfied: pyasn1<0.7.0,>=0.4.6 in /usr/local/lib/python3.10/dist-packages (from pyasn1-modules>=0.2.1->google-auth>=2.15.0->google-generativeai->pgmpy) (0.6.1)\n",
            "Requirement already satisfied: charset-normalizer<4,>=2 in /usr/local/lib/python3.10/dist-packages (from requests<3.0.0.dev0,>=2.18.0->google-api-core->google-generativeai->pgmpy) (3.4.0)\n",
            "Requirement already satisfied: idna<4,>=2.5 in /usr/local/lib/python3.10/dist-packages (from requests<3.0.0.dev0,>=2.18.0->google-api-core->google-generativeai->pgmpy) (3.10)\n",
            "Requirement already satisfied: urllib3<3,>=1.21.1 in /usr/local/lib/python3.10/dist-packages (from requests<3.0.0.dev0,>=2.18.0->google-api-core->google-generativeai->pgmpy) (2.2.3)\n",
            "Requirement already satisfied: certifi>=2017.4.17 in /usr/local/lib/python3.10/dist-packages (from requests<3.0.0.dev0,>=2.18.0->google-api-core->google-generativeai->pgmpy) (2024.8.30)\n",
            "Downloading pgmpy-0.1.26-py3-none-any.whl (2.0 MB)\n",
            "\u001b[2K   \u001b[90m━━━━━━━━━━━━━━━━━━━━━━━━━━━━━━━━━━━━━━━━\u001b[0m \u001b[32m2.0/2.0 MB\u001b[0m \u001b[31m19.1 MB/s\u001b[0m eta \u001b[36m0:00:00\u001b[0m\n",
            "\u001b[?25hInstalling collected packages: pgmpy\n",
            "Successfully installed pgmpy-0.1.26\n"
          ]
        }
      ]
    },
    {
      "cell_type": "code",
      "source": [
        "'''P(C):\n",
        "+----------+----------+-----------+-----------+\n",
        "|    C     |     0    |     1     |      2    |\n",
        "+----------+----------+-----------+-----------+\n",
        "|          |    0.33  |    0.33   |    0.33   |\n",
        "+----------+----------+-----------+-----------+\n",
        "\n",
        "P(P):\n",
        "+----------+----------+-----------+-----------+\n",
        "|    P     |     0    |     1     |      2    |\n",
        "+----------+----------+-----------+-----------+\n",
        "|          |    0.33  |    0.33   |    0.33   |\n",
        "+----------+----------+-----------+-----------+\n",
        "\n",
        "P(H | P, C):\n",
        "+------+------+------+------+------+------+------+------+------+------+\n",
        "|   C  |          0         |          1         |          2         |\n",
        "+------+------+------+------+------+------+------+------+------+------+\n",
        "|   P  |   0  |   1  |   2  |   0  |   1  |   2  |   0  |   1  |   2  |\n",
        "+------+------+------+------+------+------+------+------+------+------+\n",
        "|  H=0 |   0  |   0  |   0  |   0  |  0.5 |   1  |   0  |   1  |  0.5 |\n",
        "+------+------+------+------+------+------+------+------+------+------+\n",
        "|  H=1 |  0.5 |   0  |   1  |   0  |   0  |   0  |   1  |   0  |  0.5 |\n",
        "+------+------+------+------+------+------+------+------+------+------+\n",
        "|  H=2 |  0.5 |   1  |   0  |   1  |  0.5 |   0  |   0  |   0  |   0  |\n",
        "+------+------+------+------+------+------+------+------+------+------+\n",
        "Tabelul P(H | P, C) are următoarea logică:\n",
        "\n",
        "Gazda(H) nu va deschide niciodată ușa aleasă de concurent (C).\n",
        "Astfel, în cazul în care premiul se află în spatele acelei uși, H va alege o altă ușă(din cele 2) cu o capră.\n",
        "H trebuie să deschidă întotdeauna o ușă care nu conține premiul.\n",
        " Aceasta înseamnă că, în funcție de poziția premiului (P) și alegerea concurentului (C), H deschide cu probabilitate de 1 o ușă care să respecte aceste reguli.'''\n",
        "\n",
        "from pgmpy.models import BayesianNetwork\n",
        "from pgmpy.factors.discrete import TabularCPD\n",
        "\n",
        "# Defining the network structure\n",
        "model = BayesianNetwork([(\"C\", \"H\"), (\"P\", \"H\")])\n",
        "\n",
        "# Defining the CPDs: distribuțiile condiționate de probabilitate\n",
        "cpd_c = TabularCPD(\"C\", 3, [[0.33], [0.33], [0.33]])\n",
        "cpd_p = TabularCPD(\"P\", 3, [[0.33], [0.33], [0.33]])\n",
        "cpd_h = TabularCPD(\n",
        "    \"H\",\n",
        "    3,\n",
        "    [    #C=0         C=1             C=3\n",
        "        [0,   0, 0,   0,  0.5, 1,   0, 1, 0.5], # H=0\n",
        "        [0.5, 0, 1,   0,  0,   0,   1, 0, 0.5], # H=1\n",
        "        [0.5, 1, 0,   1,  0.5, 0,   0, 0, 0], # H=2\n",
        "    ],\n",
        "    evidence=[\"C\", \"P\"],\n",
        "    evidence_card=[3, 3],\n",
        ")\n",
        "\n",
        "#CPD-urile (cpd_c, cpd_p, cpd_h) sunt adăugate la model prin model.add_cpds(), iar modelul este verificat folosind model.check_model().\n",
        "model.add_cpds(cpd_c, cpd_p, cpd_h)\n",
        "\n",
        "model.get_cpds()\n",
        "# check_model check for the model structure and the associated CPD and returns True if everything is correct otherwise throws an exception\n",
        "model.check_model()\n",
        "\n",
        "#Calcularea Probabilităților conditionate prin Inferență:\n",
        "from pgmpy.inference import VariableElimination # Folosim VariableElimination pentru a calcula probabilitățile pentru diferite scenarii:\n",
        "\n",
        "infer = VariableElimination(model)\n",
        "posterior_p = infer.query([\"P\"], evidence={\"C\": 0, \"H\": 2})\n",
        "#Calculăm probabilitatea ca premiul (P) să fie în spatele unei anumite uși, având în vedere că jucătorul a ales inițial ușa 0 (C=0) și H a deschis ușa 2 (H=2).\n",
        "print(posterior_p)\n",
        "\n",
        "\n",
        "#Rezultatul arată că probabilitatea de a câștiga dacă schimbăm alegerea inițială este mai mare decât dacă nu schimbăm.\n",
        "\n",
        "' the probability of the prize i.e.  P(P|H=2, C=0)'"
      ],
      "metadata": {
        "colab": {
          "base_uri": "https://localhost:8080/",
          "height": 192
        },
        "id": "IcKmj41uGajA",
        "outputId": "5c48a778-bf01-4834-d835-0f7bc7a43f85"
      },
      "execution_count": null,
      "outputs": [
        {
          "output_type": "stream",
          "name": "stdout",
          "text": [
            "+------+----------+\n",
            "| P    |   phi(P) |\n",
            "+======+==========+\n",
            "| P(0) |   0.3333 |\n",
            "+------+----------+\n",
            "| P(1) |   0.6667 |\n",
            "+------+----------+\n",
            "| P(2) |   0.0000 |\n",
            "+------+----------+\n"
          ]
        },
        {
          "output_type": "execute_result",
          "data": {
            "text/plain": [
              "' the probability of the prize i.e.  P(P|H=2, C=0)'"
            ],
            "application/vnd.google.colaboratory.intrinsic+json": {
              "type": "string"
            }
          },
          "metadata": {},
          "execution_count": 4
        }
      ]
    },
    {
      "cell_type": "markdown",
      "source": [
        "**Exercitiul 2:**\n"
      ],
      "metadata": {
        "id": "153Y56YlJW5_"
      }
    },
    {
      "cell_type": "code",
      "source": [
        "from pgmpy.models import BayesianNetwork\n",
        "from pgmpy.factors.discrete import TabularCPD\n",
        "\n",
        "model = BayesianNetwork([\n",
        "    ('B', 'T'),  # Boala cauzează tuse\n",
        "    ('B', 'X'),  # Boala cauzează radiografie anormală\n",
        "    ('B', 'D'),  # Boala influențează dificultatea de respirație\n",
        "    ('T', 'D')   # Tusea influențează dificultatea de respirație\n",
        "])\n",
        "\n",
        "#caz 1:\n",
        "cpd_b = TabularCPD(\"B\", 2, [[0.9], [0.1]])\n",
        "\n",
        "\n",
        "#caz 2:\n",
        "cpd_t = TabularCPD(\n",
        "    \"T\", 2,\n",
        "\n",
        "    [    #B=0      B=1\n",
        "        [0.7,      0.2], # T=0\n",
        "        [0.3,      0.8]  # T=1\n",
        "    ],\n",
        "    evidence=[\"B\"],\n",
        "    evidence_card=[2]\n",
        ")\n",
        "\n",
        "\n",
        "#caz 3:\n",
        "cpd_x = TabularCPD(\n",
        "    \"X\", 2,\n",
        "    [    # B=0      B=1\n",
        "        [0.9,       0.1], # X=0\n",
        "        [0.1,       0.9]  # X=1\n",
        "    ],\n",
        "    evidence=[\"B\"],\n",
        "    evidence_card=[2]\n",
        ")\n",
        "\n",
        "\n",
        "#caz 4\n",
        "cpd_d = TabularCPD(\n",
        "    \"D\", 2,\n",
        "    [   # B=0           B=1\n",
        "        [0.9,   0.5,  0.6,  0.1], # D=0\n",
        "        [0.1,   0.5,  0.4,  0.9]  # D=1\n",
        "    ],\n",
        "    evidence=[\"B\", \"T\"],\n",
        "    evidence_card=[2, 2]\n",
        ")\n",
        "\n",
        "# Associating the CPDs with the model\n",
        "model.add_cpds(cpd_b, cpd_t, cpd_x, cpd_d)\n",
        "\n",
        "# Check model consistency\n",
        "model.check_model()\n",
        "\n"
      ],
      "metadata": {
        "colab": {
          "base_uri": "https://localhost:8080/"
        },
        "id": "1hFgwNGFJwjn",
        "outputId": "9638caed-f32c-4266-ab3c-c2c394d098d4"
      },
      "execution_count": 28,
      "outputs": [
        {
          "output_type": "execute_result",
          "data": {
            "text/plain": [
              "True"
            ]
          },
          "metadata": {},
          "execution_count": 28
        }
      ]
    },
    {
      "cell_type": "markdown",
      "source": [
        "2."
      ],
      "metadata": {
        "id": "0n4_SRrFFao3"
      }
    },
    {
      "cell_type": "code",
      "source": [
        "from pgmpy.inference import VariableElimination\n",
        "\n",
        "# Inițializăm obiectul de inferență\n",
        "infer = VariableElimination(model)\n",
        "\n",
        "# Calculăm probabilitatea condiționată\n",
        "posterior_p = infer.query(['B'], evidence={'T': 1, 'D': 1})\n",
        "\n",
        "print(f\"{posterior_p} \\n\")\n",
        "'P(B=1 | T=1, D=1)'"
      ],
      "metadata": {
        "colab": {
          "base_uri": "https://localhost:8080/",
          "height": 174
        },
        "id": "JFEbA7vjnprJ",
        "outputId": "71998c44-c16f-4bcc-a81c-9c43105e041e"
      },
      "execution_count": 31,
      "outputs": [
        {
          "output_type": "stream",
          "name": "stdout",
          "text": [
            "+------+----------+\n",
            "| B    |   phi(B) |\n",
            "+======+==========+\n",
            "| B(0) |   0.6522 |\n",
            "+------+----------+\n",
            "| B(1) |   0.3478 |\n",
            "+------+----------+ \n",
            "\n"
          ]
        },
        {
          "output_type": "execute_result",
          "data": {
            "text/plain": [
              "'P(B=1 | T=1, D=1)'"
            ],
            "application/vnd.google.colaboratory.intrinsic+json": {
              "type": "string"
            }
          },
          "metadata": {},
          "execution_count": 31
        }
      ]
    },
    {
      "cell_type": "markdown",
      "source": [
        "3."
      ],
      "metadata": {
        "id": "vMrQRs5xFf8v"
      }
    },
    {
      "cell_type": "code",
      "source": [
        "\n",
        "prob_X_given_B0 = infer.query(variables=['X'], evidence={'B': 0})\n",
        "print(prob_X_given_B0)\n",
        "'P(X=1∣B=0)=0.1'"
      ],
      "metadata": {
        "colab": {
          "base_uri": "https://localhost:8080/",
          "height": 157
        },
        "id": "3gpA-LxNFhw9",
        "outputId": "a802cf69-8766-49a6-b8ad-0ca067d629f1"
      },
      "execution_count": 30,
      "outputs": [
        {
          "output_type": "stream",
          "name": "stdout",
          "text": [
            "+------+----------+\n",
            "| X    |   phi(X) |\n",
            "+======+==========+\n",
            "| X(0) |   0.9000 |\n",
            "+------+----------+\n",
            "| X(1) |   0.1000 |\n",
            "+------+----------+\n"
          ]
        },
        {
          "output_type": "execute_result",
          "data": {
            "text/plain": [
              "'P(X=1∣B=0)=0.1'"
            ],
            "application/vnd.google.colaboratory.intrinsic+json": {
              "type": "string"
            }
          },
          "metadata": {},
          "execution_count": 30
        }
      ]
    },
    {
      "cell_type": "markdown",
      "source": [
        "4. Poza de pe caiet:"
      ],
      "metadata": {
        "id": "_L2efZVSFy9x"
      }
    },
    {
      "cell_type": "markdown",
      "source": [
        "Exercitiul 3."
      ],
      "metadata": {
        "id": "0Rsazlshw2PX"
      }
    },
    {
      "cell_type": "markdown",
      "source": [
        "3.1"
      ],
      "metadata": {
        "id": "V5cqsJoDIVIe"
      }
    },
    {
      "cell_type": "code",
      "source": [
        "import random\n",
        "\n",
        "def arunca_zar():\n",
        "    return random.randint(1, 6)\n",
        "\n",
        "# Funcțiile pentru aruncarea monedei\n",
        "def arunca_moneda_normala():\n",
        "    return random.choice([0, 1])  # 0 - față, 1 - stema (probabilitate 0.5)\n",
        "\n",
        "def arunca_moneda_masluita():\n",
        "    return 1 if random.random() < 4/7 else 0  # 1 - stema cu probabilitate 4/7\n",
        "\n",
        "def arunca_moneda(numar_aruncari, este_masluita):\n",
        "    if este_masluita:\n",
        "        return sum(arunca_moneda_masluita() for _ in range(numar_aruncari))\n",
        "    else:\n",
        "        return sum(arunca_moneda_normala() for _ in range(numar_aruncari))\n",
        "\n",
        "def simuleaza_joc():\n",
        "    # Aruncăm moneda pentru a decide cine începe (J0 sau J1)\n",
        "    primul_jucator = random.choice([0, 1])  # 0 - J0, 1 - J1\n",
        "\n",
        "    # Primul jucător aruncă cu zarul\n",
        "    n = arunca_zar()\n",
        "\n",
        "    # Celălalt jucător aruncă moneda de 2n ori\n",
        "    if primul_jucator == 0:  # J0 a început\n",
        "        # J1 aruncă moneda măsluită de 2n ori\n",
        "        m = arunca_moneda(2 * n, este_masluita=True)\n",
        "    else:  # J1 a început\n",
        "        # J0 aruncă moneda normală de 2n ori\n",
        "        m = arunca_moneda(2 * n, este_masluita=False)\n",
        "\n",
        "    # Determinăm câștigătorul\n",
        "    if n >= m:\n",
        "        return primul_jucator  # Câștigă jucătorul care a început\n",
        "    else:\n",
        "        return 1 - primul_jucator  # Câștigă celălalt jucător\n",
        "\n",
        "# Simulăm 10.000 de jocuri\n",
        "numar_simulari = 10000\n",
        "castiguri_j0 = 0\n",
        "castiguri_j1 = 0\n",
        "\n",
        "for _ in range(numar_simulari):\n",
        "    castigator = simuleaza_joc()\n",
        "    if castigator == 0:\n",
        "        castiguri_j0 += 1\n",
        "    else:\n",
        "        castiguri_j1 += 1\n",
        "\n",
        "print(f\"J0 a câștigat în {castiguri_j0} din {numar_simulari} jocuri ({castiguri_j0 / numar_simulari * 100:.2f}%)\")\n",
        "print(f\"J1 a câștigat în {castiguri_j1} din {numar_simulari} jocuri ({castiguri_j1 / numar_simulari * 100:.2f}%)\")\n",
        "if castiguri_j0 > castiguri_j1:\n",
        "    print(\"J0 are șansele cele mai mari de câștig.\")\n",
        "else:\n",
        "    print(\"J1 are șansele cele mai mari de câștig.\")\n"
      ],
      "metadata": {
        "colab": {
          "base_uri": "https://localhost:8080/"
        },
        "id": "U7sAT4MOw4gE",
        "outputId": "0889db1b-bf77-4878-e10b-c19f54127f1f"
      },
      "execution_count": 48,
      "outputs": [
        {
          "output_type": "stream",
          "name": "stdout",
          "text": [
            "J0 a câștigat în 4236 din 10000 jocuri (42.36%)\n",
            "J1 a câștigat în 5764 din 10000 jocuri (57.64%)\n",
            "J1 are șansele cele mai mari de câștig.\n"
          ]
        }
      ]
    },
    {
      "cell_type": "markdown",
      "source": [
        "3.2"
      ],
      "metadata": {
        "id": "ST2g9qSVIXT0"
      }
    },
    {
      "cell_type": "code",
      "source": [
        "import math\n",
        "import numpy as np\n",
        "from pgmpy.models import BayesianNetwork\n",
        "from pgmpy.factors.discrete import TabularCPD\n",
        "\n",
        "def construieste_modelul_jocului():\n",
        "    # CoinFlip = prima aruncare a monedei (monedă normală)\n",
        "    # PlayerStart = jucătorul care începe (0 sau 1)\n",
        "    # DiceRoll = valoarea obținută prin aruncarea zarului\n",
        "    # NumHeads = numărul de steme obținute\n",
        "\n",
        "    joc_model = BayesianNetwork([\n",
        "        ('CoinFlip', 'PlayerStart'),\n",
        "        ('PlayerStart', 'DiceRoll'),\n",
        "        ('DiceRoll', 'NumHeads'),\n",
        "        ('PlayerStart', 'NumHeads')\n",
        "    ])\n",
        "\n",
        "    # CPD pentru CoinFlip (aruncarea inițială a monedei)\n",
        "    cpd_coin_flip = TabularCPD(variable='CoinFlip', variable_card=2, values=[[0.5], [0.5]])\n",
        "\n",
        "    # CPD pentru PlayerStart (cine începe în funcție de CoinFlip)\n",
        "    cpd_player_start = TabularCPD(\n",
        "        variable='PlayerStart', variable_card=2,\n",
        "        values=[[1, 0],\n",
        "                [0, 1]],\n",
        "        evidence=['CoinFlip'], evidence_card=[2]\n",
        "    )\n",
        "\n",
        "    # CPD pentru DiceRoll (rezultatul aruncării zarului, probabilități uniforme pentru un zar corect)\n",
        "    cpd_dice_roll = TabularCPD(\n",
        "        variable='DiceRoll', variable_card=6,\n",
        "        values=[\n",
        "            [1 / 6, 1 / 6],  # Probabilitatea de a obține 1, 2, 3, ... , 6 pentru Jucătorul 0\n",
        "            [1 / 6, 1 / 6],  # Probabilitatea de a obține 1, 2, 3, ... , 6 pentru Jucătorul 1\n",
        "            [1 / 6, 1 / 6],\n",
        "            [1 / 6, 1 / 6],\n",
        "            [1 / 6, 1 / 6],\n",
        "            [1 / 6, 1 / 6]\n",
        "        ],\n",
        "        evidence=['PlayerStart'], evidence_card=[2]\n",
        "    )\n",
        "\n",
        "    # CPD pentru NumHeads (numărul de steme obținute)\n",
        "    # `NumHeads` depinde de `DiceRoll` și `PlayerStart`, deci trebuie să calculăm distribuția pentru fiecare caz\n",
        "    prob_stema_j0 = 0.5  # Monedă corectă pentru Jucătorul 0\n",
        "    prob_stema_j1 = 4 / 7  # Monedă măsluită pentru Jucătorul 1\n",
        "    max_steme = 12  # Numărul maxim de steme pentru `NumHeads`\n",
        "\n",
        "    # Construirea valorilor de probabilitate pe baza monedei măsluite/corecte\n",
        "    valori = []\n",
        "    # Iterăm peste fiecare rezultat posibil al zarului, DiceRoll (de la 1 la 6)\n",
        "    for n in range(1, 7):\n",
        "        # Calculăm probabilitățile pentru Jucătorul 0 (care folosește o monedă corectă)\n",
        "        prob_heads_j0 = []\n",
        "        for k in range(2 * n + 1):  # Posibilele rezultate ale stemei pentru Jucătorul 0, de la 0 la 2*N\n",
        "            prob_k_heads = math.comb(2 * n, k) * (prob_stema_j0 ** k) * ((1 - prob_stema_j0) ** (2 * n - k))\n",
        "            prob_heads_j0.append(prob_k_heads)\n",
        "\n",
        "        # Calculăm probabilitățile pentru Jucătorul 1 (care folosește o monedă măsluită)\n",
        "        prob_heads_j1 = []\n",
        "        for k in range(2 * n + 1):  # Posibilele rezultate ale stemei pentru Jucătorul 1, de la 0 la 2*N\n",
        "            prob_k_heads = math.comb(2 * n, k) * (prob_stema_j1 ** k) * ((1 - prob_stema_j1) ** (2 * n - k))\n",
        "            prob_heads_j1.append(prob_k_heads)\n",
        "\n",
        "        # Completăm cu zero pentru a acoperi rezultate până la 12 steme\n",
        "        # Este necesar deoarece `2 * N` poate varia, dar avem nevoie de dimensiune uniformă\n",
        "        prob_heads_j0 += [0] * (max_steme - len(prob_heads_j0) + 1)\n",
        "        prob_heads_j1 += [0] * (max_steme - len(prob_heads_j1) + 1)\n",
        "\n",
        "        # Adăugăm aceste distribuții în lista de valori\n",
        "        valori.append(prob_heads_j0)  # Adăugăm probabilitățile pentru Jucătorul 0\n",
        "        valori.append(prob_heads_j1)\n",
        "\n",
        "    # Reshape lista pentru a se potrivi cu forma așteptată (variable_card, evidence_card[0] * evidence_card[1])\n",
        "    valori = np.array(valori).T.tolist()\n",
        "\n",
        "    cpd_num_heads = TabularCPD(\n",
        "        variable='NumHeads', variable_card=max_steme + 1,\n",
        "        values=valori,\n",
        "        evidence=['PlayerStart', 'DiceRoll'],\n",
        "        evidence_card=[2, 6])\n",
        "\n",
        "    # Adăugarea CPD-urilor la model\n",
        "    joc_model.add_cpds(cpd_coin_flip, cpd_player_start, cpd_dice_roll, cpd_num_heads)\n",
        "\n",
        "    # Verificarea validității modelului\n",
        "    try:\n",
        "        joc_model.check_model()\n",
        "        print(\"Modelul a fost construit cu succes.\")\n",
        "    except Exception as e:\n",
        "        print(f\"A apărut o eroare: {e}\")\n",
        "\n",
        "    return joc_model\n",
        "# Apelarea funcției pentru a construi modelul\n",
        "construieste_modelul_jocului()"
      ],
      "metadata": {
        "id": "skvHit1MxIad",
        "colab": {
          "base_uri": "https://localhost:8080/"
        },
        "outputId": "e8332b1b-054a-40b9-a607-fa9b096c7acd"
      },
      "execution_count": 52,
      "outputs": [
        {
          "output_type": "stream",
          "name": "stdout",
          "text": [
            "Modelul a fost construit cu succes.\n"
          ]
        },
        {
          "output_type": "execute_result",
          "data": {
            "text/plain": [
              "<pgmpy.models.BayesianNetwork.BayesianNetwork at 0x78c3b76f5f60>"
            ]
          },
          "metadata": {},
          "execution_count": 52
        }
      ]
    },
    {
      "cell_type": "markdown",
      "source": [
        "3.3"
      ],
      "metadata": {
        "id": "TUvAXR3c7-_6"
      }
    },
    {
      "cell_type": "code",
      "source": [
        "# Apelarea funcției pentru a construi modelul\n",
        "model = construieste_modelul_jocului()\n",
        "\n",
        "# Inferența pentru a determina cine a început jocul, știind că s-a obținut o singură stemă\n",
        "inference = VariableElimination(model)\n",
        "rezultate = inference.query(variables=['PlayerStart'], evidence={'NumHeads': 1})\n",
        "print(rezultate)"
      ],
      "metadata": {
        "id": "XxEvQOh68AFZ",
        "outputId": "882b7c74-7cfb-44f7-b519-820368ee67c9",
        "colab": {
          "base_uri": "https://localhost:8080/"
        }
      },
      "execution_count": 53,
      "outputs": [
        {
          "output_type": "stream",
          "name": "stdout",
          "text": [
            "Modelul a fost construit cu succes.\n",
            "+----------------+--------------------+\n",
            "| PlayerStart    |   phi(PlayerStart) |\n",
            "+================+====================+\n",
            "| PlayerStart(0) |             0.9633 |\n",
            "+----------------+--------------------+\n",
            "| PlayerStart(1) |             0.0367 |\n",
            "+----------------+--------------------+\n"
          ]
        }
      ]
    }
  ]
}